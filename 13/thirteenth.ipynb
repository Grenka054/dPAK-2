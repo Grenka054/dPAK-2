{
 "cells": [
  {
   "attachments": {},
   "cell_type": "markdown",
   "metadata": {
    "slideshow": {
     "slide_type": "slide"
    }
   },
   "source": [
    "1. Подготовьте данные для word2vec по одной из недавно прочитанных книг, удалив все символы, кроме букв и пробелов и обучите модель. Посмотрите результат."
   ]
  },
  {
   "cell_type": "code",
   "execution_count": 22,
   "metadata": {},
   "outputs": [],
   "source": [
    "import codecs\n",
    "import numpy as np\n",
    "import gensim\n",
    "import re\n",
    "import torch\n",
    "\n",
    "device = torch.device(\"cuda:0\" if torch.cuda.is_available() else \"cpu\")"
   ]
  },
  {
   "cell_type": "code",
   "execution_count": 23,
   "metadata": {},
   "outputs": [],
   "source": [
    "def format_text(docs: list, points = ''):\n",
    "    docs = [re.sub(\"[^А-Яа-я \" + points + \"]\", \"\", doc) for doc in docs]\n",
    "    docs = [re.sub(' +', ' ', doc.lower()) for doc in docs]\n",
    "    docs = list(filter(None, docs))\n",
    "    return docs"
   ]
  },
  {
   "cell_type": "code",
   "execution_count": 24,
   "metadata": {},
   "outputs": [
    {
     "name": "stdout",
     "output_type": "stream",
     "text": [
      "18345 предложений\n"
     ]
    }
   ],
   "source": [
    "with codecs.open('data/pin.txt', encoding='utf-8', mode='r') as f:\n",
    "    docs = f.readlines()\n",
    "docs = format_text(docs, \"!?.\")\n",
    "max_sentence_len = 12\n",
    "sentences = [sent for doc in docs for sent in re.split('[.!?]', doc)]\n",
    "sentences = [[word for word in sent.lower().split()[:max_sentence_len]] for sent in sentences]\n",
    "print(len(sentences), 'предложений')"
   ]
  },
  {
   "cell_type": "code",
   "execution_count": 25,
   "metadata": {},
   "outputs": [],
   "source": [
    "# Обучение модели\n",
    "word_model = gensim.models.Word2Vec(sentences, vector_size=100, min_count=1, window=5, epochs=100)"
   ]
  },
  {
   "cell_type": "code",
   "execution_count": 26,
   "metadata": {},
   "outputs": [
    {
     "name": "stdout",
     "output_type": "stream",
     "text": [
      "Похожие слова:\n",
      "  раскольников -> он (0.65), свидригайлов (0.58), мещанин (0.49), постоял (0.46), переднюю (0.43), зосимов (0.43), оборачиваясь (0.42), лебезятников (0.42)\n",
      "  топор -> схватил (0.67), расстегнул (0.61), бутылку (0.61), опустил (0.60), вынул (0.58), лезвием (0.57), правый (0.56), дернул (0.56)\n",
      "  жизнь -> кабаке (0.69), будущую (0.62), ихнюю (0.59), всюто (0.58), всю (0.57), твою (0.55), верхнюю (0.55), напролет (0.55)\n",
      "  человек -> шарманщик (0.64), толстою (0.49), черноволосый (0.48), превосходный (0.48), горячей (0.47), кафтане (0.47), шеей (0.45), мальчишка (0.41)\n",
      "  бог -> постыдного (0.48), предал (0.46), предупреждаю (0.46), кто (0.44), хорошос (0.44), презренного (0.44), утопится (0.44), продолжала (0.44)\n",
      "  деньги -> успокойся (0.46), сосчитав (0.46), расписки (0.46), вынесли (0.46), обои (0.46), грош (0.45), корни (0.44), убивает (0.44)\n",
      "  право -> одинаковое (0.52), имеете (0.50), способны (0.50), мертвого (0.48), имеют (0.47), коммуны (0.47), член (0.46), люблю (0.46)\n"
     ]
    }
   ],
   "source": [
    "print('Похожие слова:')\n",
    "for word in ['раскольников', 'топор', 'жизнь', 'человек', 'бог', 'деньги', 'право']:\n",
    "    most_similar = ', '.join('%s (%.2f)' % (similar, dist) for similar, dist in word_model.wv.most_similar(word)[:8])\n",
    "    print('  %s -> %s' % (word, most_similar))"
   ]
  },
  {
   "cell_type": "code",
   "execution_count": 27,
   "metadata": {},
   "outputs": [
    {
     "data": {
      "text/plain": [
       "array([-0.39951888,  0.8912397 , -1.5973226 ,  0.8102004 ,  0.8058063 ,\n",
       "        1.6356167 ,  0.57824945,  1.7048991 ,  0.4905908 ,  0.82535976,\n",
       "       -0.31362787,  1.1019832 ,  0.24623854, -0.58181655,  1.692493  ,\n",
       "       -0.354531  ,  1.5446209 , -0.42054185, -0.9475763 ,  0.42655993,\n",
       "       -0.39634284, -1.0408797 , -0.68639964, -0.31996408, -0.81146806,\n",
       "        1.3357495 ,  2.32386   ,  0.3831257 , -0.7369332 ,  3.1071177 ,\n",
       "       -1.2317047 , -0.34250063,  0.20491984, -0.16650717,  0.8431681 ,\n",
       "        1.553574  , -1.0479397 , -0.6459416 , -0.15856019,  0.24086373,\n",
       "        0.28208542, -0.3699437 ,  1.7177438 ,  0.5682484 ,  0.34930095,\n",
       "        0.11507092,  0.6953298 , -0.561048  ,  1.4908742 ,  0.72121525,\n",
       "        0.4579773 , -0.13321398, -0.38115907, -0.50508535,  0.24548773,\n",
       "        1.320568  ,  0.97083443,  0.3650036 , -0.43738884, -0.27026466,\n",
       "        0.2844159 , -0.03570403,  0.1358645 ,  0.7224156 , -0.08425009,\n",
       "        0.10052069, -0.28464696,  0.8844513 , -1.3443834 , -0.36991876,\n",
       "        0.14710332, -1.6014553 ,  0.13155583,  0.0596143 , -0.44130552,\n",
       "        0.15937579,  1.553277  ,  2.378433  , -0.42195466, -0.11278966,\n",
       "       -0.07905106,  0.43718633, -1.7484939 ,  0.23073158,  0.02643115,\n",
       "       -0.99871594,  1.0426222 ,  0.88135076,  2.6150649 ,  0.30919582,\n",
       "       -0.5434326 , -0.20627768,  0.7964264 ,  0.6850516 , -2.8650188 ,\n",
       "        1.1980977 ,  1.3906397 ,  1.639192  , -0.7093752 ,  0.44253582],\n",
       "      dtype=float32)"
      ]
     },
     "execution_count": 27,
     "metadata": {},
     "output_type": "execute_result"
    }
   ],
   "source": [
    "# Получение вектора\n",
    "word_model.wv.get_vector('топор')"
   ]
  },
  {
   "attachments": {},
   "cell_type": "markdown",
   "metadata": {},
   "source": [
    "3. Из этого же текста (п.1) возьмите небольшой фрагмент, разбейте на предложения с одинаковым числом символов. Каждый символ предложения закодируйте с помощью one hot encoding. В итоге у вас должен получиться массив размера (n_sentences, sentence_len, encoding_size)."
   ]
  },
  {
   "cell_type": "code",
   "execution_count": 28,
   "metadata": {},
   "outputs": [],
   "source": [
    "from sklearn.preprocessing import OneHotEncoder\n",
    "\n",
    "fragment = docs[105:150]"
   ]
  },
  {
   "cell_type": "code",
   "execution_count": 29,
   "metadata": {},
   "outputs": [
    {
     "data": {
      "text/plain": [
       "array([['н', 'у', ' ', ..., 'д', 'у', 'м'],\n",
       "       ['н', 'о', ' ', ..., 'м', 'о', 'ж'],\n",
       "       ['с', 'о', 'н', ..., 'л', ' ', 'о'],\n",
       "       ...,\n",
       "       ['б', 'о', 'ю', ..., ' ', 'и', ' '],\n",
       "       ['в', 'с', 'п', ..., ' ', 'п', 'р'],\n",
       "       ['о', 'б', 'н', ..., 'с', 'ч', 'е']], dtype='<U1')"
      ]
     },
     "execution_count": 29,
     "metadata": {},
     "output_type": "execute_result"
    }
   ],
   "source": [
    "max_sentence_len = 40\n",
    "# разделить на предложения, огрнаничить их по количеству символов и удалить незначащие пробелы\n",
    "sentences_as_strings = [' '.join(sent.lower().split())[:max_sentence_len] for doc in fragment for sent in re.split('[.!?]', doc)]\n",
    "# удалить пустые предложения\n",
    "sentences_as_strings = list(filter(None, sentences_as_strings))\n",
    "# строки в списки символов\n",
    "sentences_as_letters_list = [[char.lower() for char in sent] for sent in sentences_as_strings]\n",
    "# отфильтровать маленькие предложения\n",
    "sentences = np.array(list(filter(lambda x: len(x) == max_sentence_len, sentences_as_letters_list)))\n",
    "sentences"
   ]
  },
  {
   "cell_type": "code",
   "execution_count": 30,
   "metadata": {},
   "outputs": [],
   "source": [
    "# список символов для one hot encoding - алфавит\n",
    "alphabet = [chr(let) for let in range(ord('а'), ord('я') + 1)] + ['ё', ' ']\n",
    "# создать кодировщик по алфавиту\n",
    "ohe = OneHotEncoder(categories=list(np.array(alphabet).reshape(1, -1)))\n",
    "# пустой массив для записи\n",
    "encoded_sentences = np.empty((*sentences.shape, len(alphabet)))\n",
    "# кодирование\n",
    "for i, sent in enumerate(sentences):\n",
    "    encoded_sentences[i] = ohe.fit_transform(sent.reshape(-1, 1)).toarray()"
   ]
  },
  {
   "cell_type": "code",
   "execution_count": 31,
   "metadata": {},
   "outputs": [
    {
     "name": "stdout",
     "output_type": "stream",
     "text": [
      "(166, 40, 34)\n",
      "[[[0. 0. 0. ... 0. 0. 0.]\n",
      "  [0. 0. 0. ... 0. 0. 0.]\n",
      "  [0. 0. 0. ... 0. 0. 1.]\n",
      "  ...\n",
      "  [0. 0. 0. ... 0. 0. 0.]\n",
      "  [0. 0. 0. ... 0. 0. 0.]\n",
      "  [0. 0. 0. ... 0. 0. 0.]]\n",
      "\n",
      " [[0. 0. 0. ... 0. 0. 0.]\n",
      "  [0. 0. 0. ... 0. 0. 0.]\n",
      "  [0. 0. 0. ... 0. 0. 1.]\n",
      "  ...\n",
      "  [0. 0. 0. ... 0. 0. 0.]\n",
      "  [0. 0. 0. ... 0. 0. 0.]\n",
      "  [0. 0. 0. ... 0. 0. 0.]]\n",
      "\n",
      " [[0. 0. 0. ... 0. 0. 0.]\n",
      "  [0. 0. 0. ... 0. 0. 0.]\n",
      "  [0. 0. 0. ... 0. 0. 0.]\n",
      "  ...\n",
      "  [0. 0. 0. ... 0. 0. 0.]\n",
      "  [0. 0. 0. ... 0. 0. 1.]\n",
      "  [0. 0. 0. ... 0. 0. 0.]]\n",
      "\n",
      " ...\n",
      "\n",
      " [[0. 1. 0. ... 0. 0. 0.]\n",
      "  [0. 0. 0. ... 0. 0. 0.]\n",
      "  [0. 0. 0. ... 0. 0. 0.]\n",
      "  ...\n",
      "  [0. 0. 0. ... 0. 0. 1.]\n",
      "  [0. 0. 0. ... 0. 0. 0.]\n",
      "  [0. 0. 0. ... 0. 0. 1.]]\n",
      "\n",
      " [[0. 0. 1. ... 0. 0. 0.]\n",
      "  [0. 0. 0. ... 0. 0. 0.]\n",
      "  [0. 0. 0. ... 0. 0. 0.]\n",
      "  ...\n",
      "  [0. 0. 0. ... 0. 0. 1.]\n",
      "  [0. 0. 0. ... 0. 0. 0.]\n",
      "  [0. 0. 0. ... 0. 0. 0.]]\n",
      "\n",
      " [[0. 0. 0. ... 0. 0. 0.]\n",
      "  [0. 1. 0. ... 0. 0. 0.]\n",
      "  [0. 0. 0. ... 0. 0. 0.]\n",
      "  ...\n",
      "  [0. 0. 0. ... 0. 0. 0.]\n",
      "  [0. 0. 0. ... 0. 0. 0.]\n",
      "  [0. 0. 0. ... 0. 0. 0.]]]\n"
     ]
    }
   ],
   "source": [
    "print(encoded_sentences.shape)\n",
    "print(encoded_sentences)"
   ]
  },
  {
   "attachments": {},
   "cell_type": "markdown",
   "metadata": {},
   "source": [
    "4. На полученных в п.3 задании обучение модель RNN для предсказания следующего символа. Посмотрите результат при последовательной генерации."
   ]
  },
  {
   "cell_type": "code",
   "execution_count": 32,
   "metadata": {},
   "outputs": [],
   "source": [
    "import torch.nn as nn\n",
    "import torch.nn.functional as F\n",
    "import torch.optim as optim\n",
    "from torch.utils.data import TensorDataset, DataLoader"
   ]
  },
  {
   "cell_type": "code",
   "execution_count": 77,
   "metadata": {},
   "outputs": [],
   "source": [
    "class RNN(nn.Module):\n",
    "    def __init__(self, alphabet_length, sentence_length):\n",
    "        super().__init__()\n",
    "        self.lstm = nn.LSTM(alphabet_length, sentence_length, num_layers=2, batch_first=True)\n",
    "        self.linear = nn.Linear(sentence_length, alphabet_length)\n",
    "\n",
    "    def forward(self, x):\n",
    "        out, _ = self.lstm(x)\n",
    "        return self.linear(out)"
   ]
  },
  {
   "cell_type": "code",
   "execution_count": 78,
   "metadata": {},
   "outputs": [
    {
     "data": {
      "text/plain": [
       "RNN(\n",
       "  (lstm): LSTM(34, 128, num_layers=2, batch_first=True)\n",
       "  (linear): Linear(in_features=128, out_features=34, bias=True)\n",
       ")"
      ]
     },
     "execution_count": 78,
     "metadata": {},
     "output_type": "execute_result"
    }
   ],
   "source": [
    "data_tr = encoded_sentences\n",
    "\n",
    "num_remembered_char = 15\n",
    "\n",
    "x_data = [data_tr[:, i:i+num_remembered_char, :] for i in range(max_sentence_len-num_remembered_char-1)]\n",
    "y_data = [data_tr[:, i+1:i+num_remembered_char+1, :] for i in range(max_sentence_len-num_remembered_char-1)]\n",
    "\n",
    "x_data = np.concatenate(x_data, axis=0)\n",
    "y_data = np.concatenate(y_data, axis=0)\n",
    "\n",
    "tensor_x = torch.Tensor(x_data) # transform to torch tensor\n",
    "tensor_y = torch.Tensor(y_data)\n",
    "\n",
    "pred_text_dataset = TensorDataset(tensor_x, tensor_y) # create your dataset\n",
    "pred_text_dataloader = DataLoader(pred_text_dataset, batch_size=16) # create your dataloader\n",
    "\n",
    "model = RNN(len(alphabet), 128)\n",
    "opt = optim.Adam(model.parameters(), lr=0.01)\n",
    "criterion = nn.MSELoss()\n",
    "\n",
    "model.to(device)"
   ]
  },
  {
   "cell_type": "code",
   "execution_count": 79,
   "metadata": {},
   "outputs": [],
   "source": [
    "def id2char(id):\n",
    "    return alphabet[id.item()]\n",
    "\n",
    "def prepare_input(input, encoder):\n",
    "    sent = np.array(list(input)).reshape(-1, 1)\n",
    "    x_tst = torch.Tensor(encoder.fit_transform(sent).toarray())\n",
    "    x_tst = x_tst.reshape((1, *x_tst.shape))\n",
    "    return x_tst.to(device)\n",
    "\n",
    "def predict_text(model, encoder, input, text_size):\n",
    "    prediction = input\n",
    "    with torch.no_grad():\n",
    "        for _ in range(text_size):\n",
    "            out = model(prepare_input(prediction, encoder))\n",
    "            a = out[-1].max(dim = 1, keepdim=True)[1]\n",
    "            prediction += id2char(a[-1])\n",
    "    return prediction"
   ]
  },
  {
   "cell_type": "code",
   "execution_count": 80,
   "metadata": {},
   "outputs": [
    {
     "name": "stdout",
     "output_type": "stream",
     "text": [
      "[Epoch:  1] text:  несколько днено посала он при тебя причи\n",
      "[Epoch:  2] text:  принесу а не свадрагилось подле вас дуня\n",
      "[Epoch:  3] text:  принесу а не посетило проговорил расколь\n",
      "[Epoch:  4] text:  приглашать давать вот уже подиа мар петр\n",
      "[Epoch:  5] text:  приглашать давать вот уже двадцать неско\n",
      "[Epoch:  6] text:  подслушала своем не посетило ли наши мук\n",
      "[Epoch:  7] text:  проговорил раскольниковерже не приписыва\n",
      "[Epoch:  8] text:  полилу на бождою сегодня и самала прогов\n",
      "[Epoch:  9] text:  проговорил раскольно и он хочет открыл г\n",
      "[Epoch: 10] text:  помео он объявил нам что было нельзя не \n",
      "[Epoch: 11] text:  не посетило ли и может сносить и даже в \n",
      "[Epoch: 12] text:  потому что несколько словом милый родя о\n",
      "[Epoch: 13] text:  потому что несколько словый и пожалуй пр\n",
      "[Epoch: 14] text:  потому что несколько словало большой ска\n",
      "[Epoch: 15] text:  не приписывает он грубостию своем не пос\n",
      "[Epoch: 16] text:  не посетило ли и он хочение  обвинишь ме\n",
      "[Epoch: 17] text:  не приписывает от радости свидании но чт\n",
      "[Epoch: 18] text:  потому что несколько дней просто в оправ\n",
      "[Epoch: 19] text:  не приписывает всю правду то ты и он хоч\n",
      "[Epoch: 20] text:  не приписывает не приписывает от радости\n",
      "[Epoch: 21] text:  не приписывает не посетило лать нескольк\n",
      "[Epoch: 22] text:  не приписывает в детстве своем не писесь\n",
      "[Epoch: 23] text:  не посетило ли с болезненным ви пример и\n",
      "[Epoch: 24] text:  не приписывает от распоряжений петра пет\n",
      "[Epoch: 25] text:  не приписывает у и потому необходио с ио\n",
      "[Epoch: 26] text:  не посетило ли и дли был еще приятелесна\n",
      "[Epoch: 27] text:  не посетило ли и дуня обнадежный и обесп\n",
      "[Epoch: 28] text:  не посетило ли и читалбо подшлось и без \n",
      "[Epoch: 29] text:  не посетило ли и мне показался сначала к\n",
      "[Epoch: 30] text:  не приписывает сумасброд давно уже не по\n",
      "[Epoch: 31] text:  не приписывает от радости свидание дуни \n",
      "[Epoch: 32] text:  дуня ни полсловал и когда расс о не посе\n",
      "[Epoch: 33] text:  потому что несколько мною состояло в том\n",
      "[Epoch: 34] text:  не приписывает у иных мономанов слишком \n",
      "[Epoch: 35] text:  потому что несколько мно подслушала свое\n",
      "[Epoch: 36] text:  потому что неся мы может быть оченнии но\n",
      "[Epoch: 37] text:  не посетило ли ты помаленьку а то испужа\n",
      "[Epoch: 38] text:  потому что несколько дне и как будто боя\n",
      "[Epoch: 39] text:  подслушала своем не посетило ли и он хоч\n",
      "[Epoch: 40] text:  не приписывает он кание дуни явились на \n",
      "[Epoch: 41] text:  потому что несколько дне не  во проговор\n",
      "[Epoch: 42] text:  потому что несколько многое очень многое\n",
      "[Epoch: 43] text:  потому что несколько мн обне вешатал пис\n",
      "[Epoch: 44] text:  потому что несколько мне но боюсь за наш\n",
      "[Epoch: 45] text:  потому что несколько мне что к дуне посв\n",
      "[Epoch: 46] text:  потому что несколько ма ра не говорили ч\n",
      "[Epoch: 47] text:  потому что несколько мна была из деревен\n",
      "[Epoch: 48] text:  потому что неско и сказал что кончились \n",
      "[Epoch: 49] text:  потому что несколько мы одн будет так бл\n",
      "[Epoch: 50] text:  помеи но боюсь за наши раздумывали мы вм\n"
     ]
    }
   ],
   "source": [
    "NUM_EPOCHS = 50\n",
    "for epoch in range(NUM_EPOCHS):\n",
    "    running_loss = 0.0\n",
    "\n",
    "    for x_t, y_t in pred_text_dataloader:\n",
    "        x_t = x_t.to(device)\n",
    "        y_t = y_t.to(device)\n",
    "        \n",
    "        # zero the parameter gradients\n",
    "        opt.zero_grad()\n",
    "        \n",
    "        # forward + backward + optimize\n",
    "        output = model(x_t)\n",
    "        loss = criterion(output, y_t)\n",
    "        loss.backward()\n",
    "        opt.step()\n",
    "        \n",
    "        # print statistics\n",
    "        running_loss += loss\n",
    "\n",
    "    with torch.no_grad():\n",
    "        train_loss = running_loss / len(pred_text_dataloader)\n",
    "\n",
    "    print(f'[Epoch: {epoch + 1:2d}] text: {predict_text(model, ohe, \" \", 40)}')"
   ]
  },
  {
   "cell_type": "code",
   "execution_count": 81,
   "metadata": {},
   "outputs": [
    {
     "name": "stdout",
     "output_type": "stream",
     "text": [
      "то я и дуня выез тебя крепкокрепко и целую бессчить рассчитали с дунечко он обниманыли написали что этот сумасловна в поли уне по\n"
     ]
    }
   ],
   "source": [
    "print(predict_text(model, ohe, \"т\", 128))"
   ]
  },
  {
   "attachments": {},
   "cell_type": "markdown",
   "metadata": {},
   "source": [
    "2. Для обучения на нефтяных скважин добавьте во входные данные информацию со столбцов Gas, Water (т.е. размер x_data будет (440, 12, 3)) и обучите новую модель. Выход содержит Liquid, Gas и Water (для дальнейшего предсказания). Графики с результатами только для Liquid."
   ]
  },
  {
   "cell_type": "code",
   "execution_count": 55,
   "metadata": {},
   "outputs": [
    {
     "data": {
      "text/html": [
       "<div>\n",
       "<style scoped>\n",
       "    .dataframe tbody tr th:only-of-type {\n",
       "        vertical-align: middle;\n",
       "    }\n",
       "\n",
       "    .dataframe tbody tr th {\n",
       "        vertical-align: top;\n",
       "    }\n",
       "\n",
       "    .dataframe thead th {\n",
       "        text-align: right;\n",
       "    }\n",
       "</style>\n",
       "<table border=\"1\" class=\"dataframe\">\n",
       "  <thead>\n",
       "    <tr style=\"text-align: right;\">\n",
       "      <th></th>\n",
       "      <th>API</th>\n",
       "      <th>Year</th>\n",
       "      <th>Month</th>\n",
       "      <th>Liquid</th>\n",
       "      <th>Gas</th>\n",
       "      <th>RatioGasOil</th>\n",
       "      <th>Water</th>\n",
       "      <th>PercentWater</th>\n",
       "      <th>DaysOn</th>\n",
       "      <th>_LastUpdate</th>\n",
       "    </tr>\n",
       "  </thead>\n",
       "  <tbody>\n",
       "    <tr>\n",
       "      <th>0</th>\n",
       "      <td>5005072170100</td>\n",
       "      <td>2014</td>\n",
       "      <td>11</td>\n",
       "      <td>9783</td>\n",
       "      <td>11470</td>\n",
       "      <td>1.172442</td>\n",
       "      <td>10558</td>\n",
       "      <td>1.079219</td>\n",
       "      <td>14</td>\n",
       "      <td>2016-04-06 17:20:05.757</td>\n",
       "    </tr>\n",
       "    <tr>\n",
       "      <th>1</th>\n",
       "      <td>5005072170100</td>\n",
       "      <td>2014</td>\n",
       "      <td>12</td>\n",
       "      <td>24206</td>\n",
       "      <td>26476</td>\n",
       "      <td>1.093778</td>\n",
       "      <td>5719</td>\n",
       "      <td>0.236264</td>\n",
       "      <td>31</td>\n",
       "      <td>2016-04-06 17:20:05.757</td>\n",
       "    </tr>\n",
       "    <tr>\n",
       "      <th>2</th>\n",
       "      <td>5005072170100</td>\n",
       "      <td>2015</td>\n",
       "      <td>1</td>\n",
       "      <td>20449</td>\n",
       "      <td>26381</td>\n",
       "      <td>1.290088</td>\n",
       "      <td>2196</td>\n",
       "      <td>0.107389</td>\n",
       "      <td>31</td>\n",
       "      <td>2016-04-06 17:20:05.757</td>\n",
       "    </tr>\n",
       "    <tr>\n",
       "      <th>3</th>\n",
       "      <td>5005072170100</td>\n",
       "      <td>2015</td>\n",
       "      <td>2</td>\n",
       "      <td>6820</td>\n",
       "      <td>10390</td>\n",
       "      <td>1.523460</td>\n",
       "      <td>583</td>\n",
       "      <td>0.085484</td>\n",
       "      <td>28</td>\n",
       "      <td>2016-04-06 17:20:05.757</td>\n",
       "    </tr>\n",
       "    <tr>\n",
       "      <th>4</th>\n",
       "      <td>5005072170100</td>\n",
       "      <td>2015</td>\n",
       "      <td>3</td>\n",
       "      <td>7349</td>\n",
       "      <td>7005</td>\n",
       "      <td>0.953191</td>\n",
       "      <td>122</td>\n",
       "      <td>0.016601</td>\n",
       "      <td>13</td>\n",
       "      <td>2016-06-16 14:07:33.203</td>\n",
       "    </tr>\n",
       "  </tbody>\n",
       "</table>\n",
       "</div>"
      ],
      "text/plain": [
       "             API  Year  Month  Liquid    Gas  RatioGasOil  Water  \\\n",
       "0  5005072170100  2014     11    9783  11470     1.172442  10558   \n",
       "1  5005072170100  2014     12   24206  26476     1.093778   5719   \n",
       "2  5005072170100  2015      1   20449  26381     1.290088   2196   \n",
       "3  5005072170100  2015      2    6820  10390     1.523460    583   \n",
       "4  5005072170100  2015      3    7349   7005     0.953191    122   \n",
       "\n",
       "   PercentWater  DaysOn              _LastUpdate  \n",
       "0      1.079219      14  2016-04-06 17:20:05.757  \n",
       "1      0.236264      31  2016-04-06 17:20:05.757  \n",
       "2      0.107389      31  2016-04-06 17:20:05.757  \n",
       "3      0.085484      28  2016-04-06 17:20:05.757  \n",
       "4      0.016601      13  2016-06-16 14:07:33.203  "
      ]
     },
     "execution_count": 55,
     "metadata": {},
     "output_type": "execute_result"
    }
   ],
   "source": [
    "import pandas as pd\n",
    "\n",
    "df = pd.read_csv('./data/production.csv')\n",
    "df.head()"
   ]
  },
  {
   "cell_type": "code",
   "execution_count": 56,
   "metadata": {},
   "outputs": [
    {
     "data": {
      "text/html": [
       "<div>\n",
       "<style scoped>\n",
       "    .dataframe tbody tr th:only-of-type {\n",
       "        vertical-align: middle;\n",
       "    }\n",
       "\n",
       "    .dataframe tbody tr th {\n",
       "        vertical-align: top;\n",
       "    }\n",
       "\n",
       "    .dataframe thead th {\n",
       "        text-align: right;\n",
       "    }\n",
       "</style>\n",
       "<table border=\"1\" class=\"dataframe\">\n",
       "  <thead>\n",
       "    <tr style=\"text-align: right;\">\n",
       "      <th></th>\n",
       "      <th>0</th>\n",
       "      <th>1</th>\n",
       "      <th>2</th>\n",
       "      <th>3</th>\n",
       "      <th>4</th>\n",
       "      <th>5</th>\n",
       "      <th>6</th>\n",
       "      <th>7</th>\n",
       "      <th>8</th>\n",
       "      <th>9</th>\n",
       "      <th>...</th>\n",
       "      <th>14</th>\n",
       "      <th>15</th>\n",
       "      <th>16</th>\n",
       "      <th>17</th>\n",
       "      <th>18</th>\n",
       "      <th>19</th>\n",
       "      <th>20</th>\n",
       "      <th>21</th>\n",
       "      <th>22</th>\n",
       "      <th>23</th>\n",
       "    </tr>\n",
       "    <tr>\n",
       "      <th>API</th>\n",
       "      <th></th>\n",
       "      <th></th>\n",
       "      <th></th>\n",
       "      <th></th>\n",
       "      <th></th>\n",
       "      <th></th>\n",
       "      <th></th>\n",
       "      <th></th>\n",
       "      <th></th>\n",
       "      <th></th>\n",
       "      <th></th>\n",
       "      <th></th>\n",
       "      <th></th>\n",
       "      <th></th>\n",
       "      <th></th>\n",
       "      <th></th>\n",
       "      <th></th>\n",
       "      <th></th>\n",
       "      <th></th>\n",
       "      <th></th>\n",
       "      <th></th>\n",
       "    </tr>\n",
       "  </thead>\n",
       "  <tbody>\n",
       "    <tr>\n",
       "      <th>5005072170100</th>\n",
       "      <td>9783</td>\n",
       "      <td>24206</td>\n",
       "      <td>20449</td>\n",
       "      <td>6820</td>\n",
       "      <td>7349</td>\n",
       "      <td>16552</td>\n",
       "      <td>13844</td>\n",
       "      <td>10655</td>\n",
       "      <td>6135</td>\n",
       "      <td>11105</td>\n",
       "      <td>...</td>\n",
       "      <td>6547</td>\n",
       "      <td>5117</td>\n",
       "      <td>5280</td>\n",
       "      <td>4762</td>\n",
       "      <td>4962</td>\n",
       "      <td>4478</td>\n",
       "      <td>4328</td>\n",
       "      <td>4777</td>\n",
       "      <td>3849</td>\n",
       "      <td>3835</td>\n",
       "    </tr>\n",
       "    <tr>\n",
       "      <th>5123377130000</th>\n",
       "      <td>2341</td>\n",
       "      <td>4689</td>\n",
       "      <td>3056</td>\n",
       "      <td>1979</td>\n",
       "      <td>2037</td>\n",
       "      <td>2260</td>\n",
       "      <td>1961</td>\n",
       "      <td>1549</td>\n",
       "      <td>1364</td>\n",
       "      <td>1380</td>\n",
       "      <td>...</td>\n",
       "      <td>898</td>\n",
       "      <td>787</td>\n",
       "      <td>880</td>\n",
       "      <td>879</td>\n",
       "      <td>773</td>\n",
       "      <td>737</td>\n",
       "      <td>543</td>\n",
       "      <td>732</td>\n",
       "      <td>559</td>\n",
       "      <td>633</td>\n",
       "    </tr>\n",
       "    <tr>\n",
       "      <th>5123379280000</th>\n",
       "      <td>6326</td>\n",
       "      <td>6405</td>\n",
       "      <td>6839</td>\n",
       "      <td>6584</td>\n",
       "      <td>4775</td>\n",
       "      <td>3917</td>\n",
       "      <td>3840</td>\n",
       "      <td>3031</td>\n",
       "      <td>3137</td>\n",
       "      <td>2669</td>\n",
       "      <td>...</td>\n",
       "      <td>1795</td>\n",
       "      <td>1852</td>\n",
       "      <td>1734</td>\n",
       "      <td>1588</td>\n",
       "      <td>1739</td>\n",
       "      <td>1473</td>\n",
       "      <td>1472</td>\n",
       "      <td>1378</td>\n",
       "      <td>1235</td>\n",
       "      <td>1331</td>\n",
       "    </tr>\n",
       "    <tr>\n",
       "      <th>5123379400000</th>\n",
       "      <td>8644</td>\n",
       "      <td>13977</td>\n",
       "      <td>9325</td>\n",
       "      <td>6445</td>\n",
       "      <td>5326</td>\n",
       "      <td>4538</td>\n",
       "      <td>3403</td>\n",
       "      <td>2534</td>\n",
       "      <td>2685</td>\n",
       "      <td>2597</td>\n",
       "      <td>...</td>\n",
       "      <td>1537</td>\n",
       "      <td>1331</td>\n",
       "      <td>1305</td>\n",
       "      <td>1510</td>\n",
       "      <td>1476</td>\n",
       "      <td>1729</td>\n",
       "      <td>1606</td>\n",
       "      <td>1388</td>\n",
       "      <td>1632</td>\n",
       "      <td>814</td>\n",
       "    </tr>\n",
       "    <tr>\n",
       "      <th>5123385820100</th>\n",
       "      <td>1753</td>\n",
       "      <td>4402</td>\n",
       "      <td>1187</td>\n",
       "      <td>1204</td>\n",
       "      <td>1176</td>\n",
       "      <td>1523</td>\n",
       "      <td>1169</td>\n",
       "      <td>782</td>\n",
       "      <td>634</td>\n",
       "      <td>597</td>\n",
       "      <td>...</td>\n",
       "      <td>60</td>\n",
       "      <td>0</td>\n",
       "      <td>0</td>\n",
       "      <td>0</td>\n",
       "      <td>0</td>\n",
       "      <td>0</td>\n",
       "      <td>236</td>\n",
       "      <td>830</td>\n",
       "      <td>6</td>\n",
       "      <td>571</td>\n",
       "    </tr>\n",
       "  </tbody>\n",
       "</table>\n",
       "<p>5 rows × 24 columns</p>\n",
       "</div>"
      ],
      "text/plain": [
       "                 0      1      2     3     4      5      6      7     8   \\\n",
       "API                                                                        \n",
       "5005072170100  9783  24206  20449  6820  7349  16552  13844  10655  6135   \n",
       "5123377130000  2341   4689   3056  1979  2037   2260   1961   1549  1364   \n",
       "5123379280000  6326   6405   6839  6584  4775   3917   3840   3031  3137   \n",
       "5123379400000  8644  13977   9325  6445  5326   4538   3403   2534  2685   \n",
       "5123385820100  1753   4402   1187  1204  1176   1523   1169    782   634   \n",
       "\n",
       "                  9   ...    14    15    16    17    18    19    20    21  \\\n",
       "API                   ...                                                   \n",
       "5005072170100  11105  ...  6547  5117  5280  4762  4962  4478  4328  4777   \n",
       "5123377130000   1380  ...   898   787   880   879   773   737   543   732   \n",
       "5123379280000   2669  ...  1795  1852  1734  1588  1739  1473  1472  1378   \n",
       "5123379400000   2597  ...  1537  1331  1305  1510  1476  1729  1606  1388   \n",
       "5123385820100    597  ...    60     0     0     0     0     0   236   830   \n",
       "\n",
       "                 22    23  \n",
       "API                        \n",
       "5005072170100  3849  3835  \n",
       "5123377130000   559   633  \n",
       "5123379280000  1235  1331  \n",
       "5123379400000  1632   814  \n",
       "5123385820100     6   571  \n",
       "\n",
       "[5 rows x 24 columns]"
      ]
     },
     "execution_count": 56,
     "metadata": {},
     "output_type": "execute_result"
    }
   ],
   "source": [
    "# Подготовка данных по добыче\n",
    "def groupby_API(column):\n",
    "    return df.groupby('API')[column].apply(lambda df_: df_.reset_index(drop=True)).unstack()\n",
    "\n",
    "\n",
    "liquid = groupby_API('Liquid')\n",
    "gas = groupby_API('Gas')\n",
    "water = groupby_API('Water')\n",
    "liquid.head()"
   ]
  },
  {
   "cell_type": "code",
   "execution_count": 57,
   "metadata": {},
   "outputs": [],
   "source": [
    "def scale(df):\n",
    "    data = df.values\n",
    "    data = data / data.max()\n",
    "    return data[:, :, np.newaxis]\n",
    "\n",
    "\n",
    "# Масштабирование\n",
    "liquid = scale(liquid)\n",
    "gas = scale(gas)\n",
    "water = scale(water)\n",
    "\n",
    "data = np.concatenate([liquid, gas, water], axis=2)"
   ]
  },
  {
   "cell_type": "code",
   "execution_count": 58,
   "metadata": {},
   "outputs": [
    {
     "name": "stdout",
     "output_type": "stream",
     "text": [
      "(40, 24, 3) (10, 24, 3)\n"
     ]
    }
   ],
   "source": [
    "# Деление на трейн/тест\n",
    "data_tr = data[:40]\n",
    "data_tst = data[40:]\n",
    "print(data_tr.shape, data_tst.shape)"
   ]
  },
  {
   "cell_type": "code",
   "execution_count": 59,
   "metadata": {},
   "outputs": [
    {
     "name": "stdout",
     "output_type": "stream",
     "text": [
      "(440, 12, 3) (440, 12, 3)\n"
     ]
    }
   ],
   "source": [
    "x_data = [data_tr[:, i:i+12] for i in range(11)]\n",
    "y_data = [data_tr[:, i+1:i+13] for i in range(11)]\n",
    "\n",
    "x_data = np.concatenate(x_data, axis=0)\n",
    "y_data = np.concatenate(y_data, axis=0)\n",
    "print(x_data.shape, y_data.shape)"
   ]
  },
  {
   "cell_type": "code",
   "execution_count": 60,
   "metadata": {},
   "outputs": [],
   "source": [
    "tensor_x = torch.Tensor(x_data) # transform to torch tensor\n",
    "tensor_y = torch.Tensor(y_data)\n",
    "\n",
    "oil_dataset = TensorDataset(tensor_x, tensor_y) # create your dataset\n",
    "oil_dataloader = DataLoader(oil_dataset, batch_size=16) # create your dataloader"
   ]
  },
  {
   "cell_type": "code",
   "execution_count": 61,
   "metadata": {},
   "outputs": [
    {
     "data": {
      "text/plain": [
       "(torch.Size([16, 12, 3]), torch.Size([16, 12, 3]))"
      ]
     },
     "execution_count": 61,
     "metadata": {},
     "output_type": "execute_result"
    }
   ],
   "source": [
    "for x_t, y_t in oil_dataloader:\n",
    "    break\n",
    "x_t.shape, y_t.shape"
   ]
  },
  {
   "cell_type": "code",
   "execution_count": 62,
   "metadata": {},
   "outputs": [],
   "source": [
    "class OilModel(nn.Module):\n",
    "    def __init__(self, timesteps=12, units=32):\n",
    "        super().__init__()\n",
    "        self.lstm = nn.LSTM(3, units, 2, batch_first=True)\n",
    "        self.dense = nn.Linear(units, 3)\n",
    "        self.relu = nn.ReLU()\n",
    "        \n",
    "    def forward(self, x):\n",
    "        h, _ = self.lstm(x)\n",
    "        outs = []\n",
    "        for i in range(h.shape[0]):\n",
    "            outs.append(self.relu(self.dense(h[i])))\n",
    "        out = torch.stack(outs, dim=0)\n",
    "        return out"
   ]
  },
  {
   "cell_type": "code",
   "execution_count": 63,
   "metadata": {},
   "outputs": [],
   "source": [
    "model = OilModel()\n",
    "opt = optim.Adam(model.parameters())\n",
    "criterion = nn.MSELoss()"
   ]
  },
  {
   "cell_type": "code",
   "execution_count": 73,
   "metadata": {},
   "outputs": [
    {
     "name": "stdout",
     "output_type": "stream",
     "text": [
      "[Epoch:  1] loss: 0.003\n",
      "[Epoch:  2] loss: 0.003\n",
      "[Epoch:  3] loss: 0.003\n",
      "[Epoch:  4] loss: 0.003\n",
      "[Epoch:  5] loss: 0.002\n",
      "[Epoch:  6] loss: 0.002\n",
      "[Epoch:  7] loss: 0.002\n",
      "[Epoch:  8] loss: 0.002\n",
      "[Epoch:  9] loss: 0.002\n",
      "[Epoch: 10] loss: 0.002\n",
      "[Epoch: 11] loss: 0.002\n",
      "[Epoch: 12] loss: 0.002\n",
      "[Epoch: 13] loss: 0.002\n",
      "[Epoch: 14] loss: 0.002\n",
      "[Epoch: 15] loss: 0.002\n",
      "[Epoch: 16] loss: 0.002\n",
      "[Epoch: 17] loss: 0.002\n",
      "[Epoch: 18] loss: 0.002\n",
      "[Epoch: 19] loss: 0.002\n",
      "[Epoch: 20] loss: 0.002\n",
      "[Epoch: 21] loss: 0.002\n",
      "[Epoch: 22] loss: 0.002\n",
      "[Epoch: 23] loss: 0.002\n",
      "[Epoch: 24] loss: 0.002\n",
      "[Epoch: 25] loss: 0.002\n",
      "[Epoch: 26] loss: 0.002\n",
      "[Epoch: 27] loss: 0.002\n",
      "[Epoch: 28] loss: 0.002\n",
      "[Epoch: 29] loss: 0.002\n",
      "[Epoch: 30] loss: 0.002\n",
      "[Epoch: 31] loss: 0.002\n",
      "[Epoch: 32] loss: 0.002\n",
      "[Epoch: 33] loss: 0.002\n",
      "[Epoch: 34] loss: 0.002\n",
      "[Epoch: 35] loss: 0.002\n",
      "[Epoch: 36] loss: 0.002\n",
      "[Epoch: 37] loss: 0.002\n",
      "[Epoch: 38] loss: 0.002\n",
      "[Epoch: 39] loss: 0.002\n",
      "[Epoch: 40] loss: 0.002\n",
      "[Epoch: 41] loss: 0.002\n",
      "[Epoch: 42] loss: 0.002\n",
      "[Epoch: 43] loss: 0.002\n",
      "[Epoch: 44] loss: 0.002\n",
      "[Epoch: 45] loss: 0.002\n",
      "[Epoch: 46] loss: 0.002\n",
      "[Epoch: 47] loss: 0.002\n",
      "[Epoch: 48] loss: 0.002\n",
      "[Epoch: 49] loss: 0.002\n",
      "[Epoch: 50] loss: 0.002\n",
      "[Epoch: 51] loss: 0.002\n",
      "[Epoch: 52] loss: 0.002\n",
      "[Epoch: 53] loss: 0.002\n",
      "[Epoch: 54] loss: 0.002\n",
      "[Epoch: 55] loss: 0.002\n",
      "[Epoch: 56] loss: 0.002\n",
      "[Epoch: 57] loss: 0.002\n",
      "[Epoch: 58] loss: 0.002\n",
      "[Epoch: 59] loss: 0.002\n",
      "[Epoch: 60] loss: 0.002\n",
      "[Epoch: 61] loss: 0.002\n",
      "[Epoch: 62] loss: 0.002\n",
      "[Epoch: 63] loss: 0.002\n",
      "[Epoch: 64] loss: 0.002\n",
      "[Epoch: 65] loss: 0.002\n",
      "[Epoch: 66] loss: 0.002\n",
      "[Epoch: 67] loss: 0.002\n",
      "[Epoch: 68] loss: 0.002\n",
      "[Epoch: 69] loss: 0.002\n",
      "[Epoch: 70] loss: 0.002\n",
      "[Epoch: 71] loss: 0.002\n",
      "[Epoch: 72] loss: 0.002\n",
      "[Epoch: 73] loss: 0.002\n",
      "[Epoch: 74] loss: 0.002\n",
      "[Epoch: 75] loss: 0.002\n",
      "[Epoch: 76] loss: 0.002\n",
      "[Epoch: 77] loss: 0.002\n",
      "[Epoch: 78] loss: 0.002\n",
      "[Epoch: 79] loss: 0.002\n",
      "[Epoch: 80] loss: 0.002\n",
      "Finished Training\n"
     ]
    }
   ],
   "source": [
    "NUM_EPOCHS = 80\n",
    "\n",
    "for epoch in range(NUM_EPOCHS):  # loop over the dataset multiple times\n",
    "\n",
    "    running_loss = 0.0\n",
    "    num = 0\n",
    "    for x_t, y_t in oil_dataloader:\n",
    "        # zero the parameter gradients\n",
    "        opt.zero_grad()\n",
    "\n",
    "        # forward + backward + optimize\n",
    "        outputs = model(x_t)\n",
    "        loss = criterion(outputs, y_t)\n",
    "        loss.backward()\n",
    "        opt.step()\n",
    "\n",
    "        # print statistics\n",
    "        running_loss += loss.item()\n",
    "        num += 1\n",
    "        \n",
    "    print(f'[Epoch: {epoch + 1:2d}] loss: {running_loss / num:.3f}')\n",
    "\n",
    "print('Finished Training')"
   ]
  },
  {
   "cell_type": "code",
   "execution_count": 74,
   "metadata": {},
   "outputs": [],
   "source": [
    "# Предскажем на год вперёд используя данные только первого года\n",
    "x_tst = data_tst[:, :12]\n",
    "predicts = np.zeros((x_tst.shape[0], 0, x_tst.shape[2]))\n",
    "\n",
    "for i in range(12):\n",
    "    x = np.concatenate((x_tst[:, i:], predicts), axis=1)\n",
    "    x_t = torch.from_numpy(x).float()\n",
    "    pred = model(x_t).detach().numpy()\n",
    "    last_pred = pred[:, -1:]  # Нас интересует только последний месяц\n",
    "    predicts = np.concatenate((predicts, last_pred), axis=1)"
   ]
  },
  {
   "cell_type": "code",
   "execution_count": 75,
   "metadata": {},
   "outputs": [
    {
     "data": {
      "image/png": "[encoded data removed]",
      "text/plain": [
       "<Figure size 1000x600 with 4 Axes>"
      ]
     },
     "metadata": {},
     "output_type": "display_data"
    }
   ],
   "source": [
    "import matplotlib.pyplot as plt\n",
    "\n",
    "plt.figure(figsize=(10, 6))\n",
    "for iapi in range(4):\n",
    "    plt.subplot(2, 2, iapi+1)\n",
    "    plt.plot(np.arange(x_tst.shape[1]), x_tst[iapi, :, 0], label='Actual')\n",
    "    plt.plot(np.arange(predicts.shape[1])+x_tst.shape[1], predicts[iapi, :, 0], label='Prediction')\n",
    "    plt.legend()\n",
    "plt.show()"
   ]
  },
  {
   "cell_type": "code",
   "execution_count": null,
   "metadata": {},
   "outputs": [],
   "source": []
  }
 ],
 "metadata": {
  "celltoolbar": "Слайд-шоу",
  "kernelspec": {
   "display_name": "Python 3 (ipykernel)",
   "language": "python",
   "name": "python3"
  },
  "language_info": {
   "codemirror_mode": {
    "name": "ipython",
    "version": 3
   },
   "file_extension": ".py",
   "mimetype": "text/x-python",
   "name": "python",
   "nbconvert_exporter": "python",
   "pygments_lexer": "ipython3",
   "version": "3.10.10"
  }
 },
 "nbformat": 4,
 "nbformat_minor": 2
}
