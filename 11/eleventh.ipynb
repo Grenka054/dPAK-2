{
 "cells": [
  {
   "cell_type": "markdown",
   "source": [
    "Написать SimpleModel другим способом. Использовать model = nn.Sequential()"
   ],
   "metadata": {
    "collapsed": false
   }
  },
  {
   "cell_type": "code",
   "execution_count": 111,
   "outputs": [],
   "source": [
    "import torch.nn as nn"
   ],
   "metadata": {
    "collapsed": false
   }
  },
  {
   "cell_type": "code",
   "execution_count": 112,
   "outputs": [],
   "source": [
    "# Простая модель\n",
    "SimpleModel = lambda in_ch, out_ch : nn.Sequential(\n",
    "        nn.Linear(in_ch, 32),  # Полносвязный слой 1\n",
    "        nn.ReLU(),\n",
    "        nn.Linear(32, out_ch, bias=False),  # Полносвязный слой 2\n",
    "        nn.ReLU()  # Функция активации\n",
    ")"
   ],
   "metadata": {
    "collapsed": false
   }
  },
  {
   "cell_type": "code",
   "execution_count": 113,
   "outputs": [
    {
     "name": "stdout",
     "output_type": "stream",
     "text": [
      "Model: Sequential(\n",
      "  (0): Linear(in_features=64, out_features=32, bias=True)\n",
      "  (1): ReLU()\n",
      "  (2): Linear(in_features=32, out_features=10, bias=False)\n",
      "  (3): ReLU()\n",
      ")\n"
     ]
    }
   ],
   "source": [
    "model = SimpleModel(64, 10)\n",
    "print('Model:', model)"
   ],
   "metadata": {
    "collapsed": false
   }
  },
  {
   "cell_type": "markdown",
   "source": [
    "hw.pdf (1)"
   ],
   "metadata": {
    "collapsed": false
   }
  },
  {
   "cell_type": "code",
   "execution_count": 114,
   "outputs": [],
   "source": [
    "import torch"
   ],
   "metadata": {
    "collapsed": false
   }
  },
  {
   "cell_type": "code",
   "execution_count": 115,
   "outputs": [],
   "source": [
    "image = torch.tensor( # image[y][x] = [R,G,B]\n",
    "    [\n",
    "        [\n",
    "                [1, -1, 0],\n",
    "                [2, 0, 1],\n",
    "                [1, 1, 0]\n",
    "        ],\n",
    "        [\n",
    "                [2, 0, 1],\n",
    "                [4, 0, 2],\n",
    "                [2, 0, 1]\n",
    "        ],\n",
    "        [\n",
    "                [1, 1, 0],\n",
    "                [2, 0, 1],\n",
    "                [1, -1, 0]\n",
    "        ]\n",
    "    ], dtype=torch.float32)\n",
    "\n",
    "weights = torch.tensor( # weights[y][x] = [R,G,B]\n",
    "    [[\n",
    "        [\n",
    "            [1, 0],\n",
    "            [0, 1]\n",
    "        ],\n",
    "        [\n",
    "            [0, -1],\n",
    "            [-1, 0]\n",
    "        ],\n",
    "        [\n",
    "            [1, -1],\n",
    "            [0, 0]\n",
    "        ]\n",
    "    ]], dtype=torch.float32)"
   ],
   "metadata": {
    "collapsed": false
   }
  },
  {
   "cell_type": "code",
   "execution_count": 116,
   "outputs": [],
   "source": [
    "w = nn.Conv2d(in_channels=3, out_channels=1, kernel_size=2,\n",
    "                 padding=1, stride=1, dilation=2)\n",
    "w.weight = nn.Parameter(weights)"
   ],
   "metadata": {
    "collapsed": false
   }
  },
  {
   "cell_type": "code",
   "execution_count": 117,
   "outputs": [
    {
     "name": "stdout",
     "output_type": "stream",
     "text": [
      "tensor([[[ 0.0274, -2.9726,  0.0274],\n",
      "         [ 0.0274, -0.9726,  0.0274],\n",
      "         [ 0.0274,  1.0274,  0.0274]]], grad_fn=<SqueezeBackward1>)\n"
     ]
    }
   ],
   "source": [
    "print(w(image))"
   ],
   "metadata": {
    "collapsed": false
   }
  },
  {
   "cell_type": "markdown",
   "source": [
    "hw.pdf (2)"
   ],
   "metadata": {
    "collapsed": false
   }
  },
  {
   "cell_type": "code",
   "execution_count": 117,
   "outputs": [],
   "source": [],
   "metadata": {
    "collapsed": false
   }
  },
  {
   "cell_type": "markdown",
   "source": [
    "hw.pdf (3)"
   ],
   "metadata": {
    "collapsed": false
   }
  },
  {
   "cell_type": "code",
   "execution_count": 120,
   "outputs": [
    {
     "name": "stdout",
     "output_type": "stream",
     "text": [
      "torch.Size([1, 26, 26])\n"
     ]
    }
   ],
   "source": [
    "image = torch.randn(1, 224, 224)\n",
    "model_3 = nn.Sequential(\n",
    "    nn.Conv2d(in_channels=1, out_channels=1, kernel_size=7, padding=3,stride=2, dilation=1),\n",
    "    nn.Conv2d(in_channels=1, out_channels=1, kernel_size=3, padding=1,stride=1, dilation=1),\n",
    "    nn.MaxPool2d(2, padding=0, stride=2),\n",
    "    nn.Conv2d(in_channels=1, out_channels=1, kernel_size=3, padding=1, stride=2, dilation=3)\n",
    ")\n",
    "print(model_3(image).shape)"
   ],
   "metadata": {
    "collapsed": false
   }
  },
  {
   "cell_type": "code",
   "execution_count": null,
   "outputs": [],
   "source": [],
   "metadata": {
    "collapsed": false
   }
  }
 ],
 "metadata": {
  "kernelspec": {
   "display_name": "Python 3",
   "language": "python",
   "name": "python3"
  },
  "language_info": {
   "codemirror_mode": {
    "name": "ipython",
    "version": 2
   },
   "file_extension": ".py",
   "mimetype": "text/x-python",
   "name": "python",
   "nbconvert_exporter": "python",
   "pygments_lexer": "ipython2",
   "version": "2.7.6"
  }
 },
 "nbformat": 4,
 "nbformat_minor": 0
}
