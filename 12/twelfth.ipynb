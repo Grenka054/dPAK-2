{
 "cells": [
  {
   "cell_type": "markdown",
   "metadata": {
    "collapsed": false
   },
   "source": [
    "1) [Задача классификации изображений](https://pytorch.org/tutorials/beginner/blitz/cifar10_tutorial.html?highlight=mnist). Повторить тренировку модели (train) и запустить классификацию изображений (inference)."
   ]
  },
  {
   "cell_type": "code",
   "execution_count": 171,
   "metadata": {
    "collapsed": false
   },
   "outputs": [],
   "source": [
    "import torch\n",
    "import torch.optim as optim\n",
    "import torch.nn as nn\n",
    "import torch.nn.functional as F\n",
    "import torchvision\n",
    "import torchvision.transforms as transforms\n",
    "import matplotlib.pyplot as plt\n",
    "import numpy as np"
   ]
  },
  {
   "cell_type": "code",
   "execution_count": 172,
   "metadata": {
    "collapsed": false
   },
   "outputs": [
    {
     "name": "stdout",
     "output_type": "stream",
     "text": [
      "Files already downloaded and verified\n",
      "Files already downloaded and verified\n"
     ]
    }
   ],
   "source": [
    "# dataset\n",
    "\n",
    "transform = transforms.Compose(\n",
    "    [transforms.ToTensor(),\n",
    "     transforms.Normalize((0.5, 0.5, 0.5), (0.5, 0.5, 0.5))])\n",
    "\n",
    "batch_size = 2\n",
    "trainset = torchvision.datasets.CIFAR10(root='./data', train=True,\n",
    "                                        download=True, transform=transform)\n",
    "trainloader = torch.utils.data.DataLoader(trainset, batch_size=batch_size,\n",
    "                                          shuffle=True, num_workers=2)\n",
    "\n",
    "testset = torchvision.datasets.CIFAR10(root='./data', train=False,\n",
    "                                       download=True, transform=transform)\n",
    "testloader = torch.utils.data.DataLoader(testset, batch_size=batch_size,\n",
    "                                         shuffle=False, num_workers=2)\n",
    "\n",
    "classes = ('plane', 'car', 'bird', 'cat',\n",
    "           'deer', 'dog', 'frog', 'horse', 'ship', 'truck')"
   ]
  },
  {
   "cell_type": "code",
   "execution_count": 173,
   "metadata": {
    "collapsed": false
   },
   "outputs": [],
   "source": [
    "# define a CNN\n",
    "\n",
    "class Net(nn.Module):\n",
    "    def __init__(self):\n",
    "        super().__init__()\n",
    "        self.conv1 = nn.Conv2d(3, 6, 5)\n",
    "        self.pool = nn.MaxPool2d(2, 2)\n",
    "        self.conv2 = nn.Conv2d(6, 16, 5)\n",
    "        self.fc1 = nn.Linear(16 * 5 * 5, 120)\n",
    "        self.fc2 = nn.Linear(120, 84)\n",
    "        self.fc3 = nn.Linear(84, 10)\n",
    "\n",
    "    def forward(self, x):\n",
    "        x = self.pool(F.relu(self.conv1(x)))\n",
    "        x = self.pool(F.relu(self.conv2(x)))\n",
    "        x = torch.flatten(x, 1) # flatten all dimensions except batch\n",
    "        x = F.relu(self.fc1(x))\n",
    "        x = F.relu(self.fc2(x))\n",
    "        x = self.fc3(x)\n",
    "        return x\n",
    "\n",
    "    def train(self, trainloader, num_epochs=2, learning_rate=0.001, momentum=0.9, device=torch.device('cpu')):\n",
    "        self.to(device)\n",
    "        # define a Loss function and optimizer\n",
    "        criterion = nn.CrossEntropyLoss()\n",
    "        optimizer = optim.SGD(self.parameters(), lr=learning_rate, momentum=momentum)\n",
    "\n",
    "        # train the network\n",
    "        for epoch in range(num_epochs):  # loop over the dataset multiple times\n",
    "\n",
    "            running_loss = 0.0\n",
    "            for i, data in enumerate(trainloader, 0):\n",
    "                # get the inputs; data is a list of [inputs, labels]\n",
    "                inputs, labels = data[0].to(device), data[1].to(device)\n",
    "\n",
    "                # zero the parameter gradients\n",
    "                optimizer.zero_grad()\n",
    "\n",
    "                # forward + backward + optimize\n",
    "                outputs = self(inputs)\n",
    "                loss = criterion(outputs, labels)\n",
    "                loss.backward()\n",
    "                optimizer.step()\n",
    "\n",
    "                # print statistics\n",
    "                running_loss += loss.item()\n",
    "                if i % 2000 == 1999:    # print every 2000 mini-batches\n",
    "                    print(f'[{epoch + 1}, {i + 1:5d}] loss: {running_loss / 2000:.3f}')\n",
    "                    running_loss = 0.0\n",
    "\n",
    "        print('Finished Training')\n"
   ]
  },
  {
   "cell_type": "code",
   "execution_count": 174,
   "metadata": {},
   "outputs": [
    {
     "name": "stdout",
     "output_type": "stream",
     "text": [
      "cuda:0\n"
     ]
    }
   ],
   "source": [
    "net = Net()\n",
    "\n",
    "# По возможности обучить на GPU\n",
    "cuda = torch.cuda.is_available()\n",
    "if cuda:\n",
    "    device = torch.device('cuda:0')\n",
    "    net.to(device)\n",
    "# Assuming that we are on a CUDA machine, this should print a CUDA device:\n",
    "print(device)\n"
   ]
  },
  {
   "cell_type": "code",
   "execution_count": 175,
   "metadata": {
    "collapsed": false
   },
   "outputs": [
    {
     "name": "stdout",
     "output_type": "stream",
     "text": [
      "[1,  2000] loss: 2.247\n",
      "[1,  4000] loss: 1.983\n",
      "[1,  6000] loss: 1.825\n",
      "[1,  8000] loss: 1.724\n",
      "[1, 10000] loss: 1.644\n",
      "[1, 12000] loss: 1.617\n",
      "[1, 14000] loss: 1.576\n",
      "[1, 16000] loss: 1.546\n",
      "[1, 18000] loss: 1.488\n",
      "[1, 20000] loss: 1.462\n",
      "[1, 22000] loss: 1.468\n",
      "[1, 24000] loss: 1.433\n",
      "[2,  2000] loss: 1.395\n",
      "[2,  4000] loss: 1.389\n",
      "[2,  6000] loss: 1.373\n",
      "[2,  8000] loss: 1.350\n",
      "[2, 10000] loss: 1.336\n",
      "[2, 12000] loss: 1.323\n",
      "[2, 14000] loss: 1.327\n",
      "[2, 16000] loss: 1.289\n",
      "[2, 18000] loss: 1.321\n",
      "[2, 20000] loss: 1.281\n",
      "[2, 22000] loss: 1.288\n",
      "[2, 24000] loss: 1.267\n",
      "[3,  2000] loss: 1.175\n",
      "[3,  4000] loss: 1.195\n",
      "[3,  6000] loss: 1.175\n",
      "[3,  8000] loss: 1.210\n",
      "[3, 10000] loss: 1.197\n",
      "[3, 12000] loss: 1.181\n",
      "[3, 14000] loss: 1.180\n",
      "[3, 16000] loss: 1.214\n",
      "[3, 18000] loss: 1.208\n",
      "[3, 20000] loss: 1.185\n",
      "[3, 22000] loss: 1.189\n",
      "[3, 24000] loss: 1.144\n",
      "[4,  2000] loss: 1.066\n",
      "[4,  4000] loss: 1.110\n",
      "[4,  6000] loss: 1.061\n",
      "[4,  8000] loss: 1.079\n",
      "[4, 10000] loss: 1.140\n",
      "[4, 12000] loss: 1.098\n",
      "[4, 14000] loss: 1.115\n",
      "[4, 16000] loss: 1.097\n",
      "[4, 18000] loss: 1.115\n",
      "[4, 20000] loss: 1.076\n",
      "[4, 22000] loss: 1.104\n",
      "[4, 24000] loss: 1.110\n",
      "[5,  2000] loss: 1.025\n",
      "[5,  4000] loss: 1.007\n",
      "[5,  6000] loss: 1.001\n",
      "[5,  8000] loss: 1.011\n",
      "[5, 10000] loss: 1.045\n",
      "[5, 12000] loss: 1.029\n",
      "[5, 14000] loss: 1.021\n",
      "[5, 16000] loss: 1.039\n",
      "[5, 18000] loss: 1.039\n",
      "[5, 20000] loss: 1.051\n",
      "[5, 22000] loss: 1.071\n",
      "[5, 24000] loss: 1.037\n",
      "[6,  2000] loss: 0.935\n",
      "[6,  4000] loss: 0.971\n",
      "[6,  6000] loss: 0.954\n",
      "[6,  8000] loss: 0.970\n",
      "[6, 10000] loss: 0.976\n",
      "[6, 12000] loss: 0.967\n",
      "[6, 14000] loss: 0.994\n",
      "[6, 16000] loss: 0.987\n",
      "[6, 18000] loss: 1.003\n",
      "[6, 20000] loss: 0.991\n",
      "[6, 22000] loss: 1.015\n",
      "[6, 24000] loss: 0.990\n",
      "[7,  2000] loss: 0.909\n",
      "[7,  4000] loss: 0.880\n",
      "[7,  6000] loss: 0.942\n",
      "[7,  8000] loss: 0.950\n",
      "[7, 10000] loss: 0.963\n",
      "[7, 12000] loss: 0.926\n",
      "[7, 14000] loss: 0.973\n",
      "[7, 16000] loss: 0.960\n",
      "[7, 18000] loss: 0.928\n",
      "[7, 20000] loss: 1.008\n",
      "[7, 22000] loss: 0.974\n",
      "[7, 24000] loss: 0.950\n",
      "[8,  2000] loss: 0.827\n",
      "[8,  4000] loss: 0.867\n",
      "[8,  6000] loss: 0.894\n",
      "[8,  8000] loss: 0.899\n",
      "[8, 10000] loss: 0.927\n",
      "[8, 12000] loss: 0.916\n",
      "[8, 14000] loss: 0.918\n",
      "[8, 16000] loss: 0.938\n",
      "[8, 18000] loss: 0.940\n",
      "[8, 20000] loss: 0.936\n",
      "[8, 22000] loss: 0.973\n",
      "[8, 24000] loss: 0.952\n",
      "Finished Training\n"
     ]
    }
   ],
   "source": [
    "net.train(trainloader, device=device, num_epochs=8, learning_rate=0.0007)"
   ]
  },
  {
   "cell_type": "code",
   "execution_count": 176,
   "metadata": {
    "collapsed": false
   },
   "outputs": [
    {
     "name": "stdout",
     "output_type": "stream",
     "text": [
      "Accuracy of the network on the 10000 test images: 59 %\n"
     ]
    }
   ],
   "source": [
    "# test the network on the test data\n",
    "\n",
    "correct = 0\n",
    "total = 0\n",
    "# since we're not training, we don't need to calculate the gradients for our outputs\n",
    "with torch.no_grad():\n",
    "    for data in testloader:\n",
    "        images, labels = data[0].to(device), data[1].to(device)\n",
    "        # calculate outputs by running images through the network\n",
    "        outputs = net(images)\n",
    "        # the class with the highest energy is what we choose as prediction\n",
    "        _, predicted = torch.max(outputs.data, 1)\n",
    "        total += labels.size(0)\n",
    "        correct += (predicted == labels).sum().item()\n",
    "\n",
    "print(f'Accuracy of the network on the 10000 test images: {100 * correct // total} %')"
   ]
  },
  {
   "cell_type": "code",
   "execution_count": 177,
   "metadata": {
    "collapsed": false
   },
   "outputs": [],
   "source": [
    "# save trained model\n",
    "PATH = './cifar_net.pth'\n",
    "torch.save(net.state_dict(), PATH)"
   ]
  },
  {
   "cell_type": "code",
   "execution_count": null,
   "metadata": {},
   "outputs": [],
   "source": []
  }
 ],
 "metadata": {
  "kernelspec": {
   "display_name": "Python 3",
   "language": "python",
   "name": "python3"
  },
  "language_info": {
   "codemirror_mode": {
    "name": "ipython",
    "version": 3
   },
   "file_extension": ".py",
   "mimetype": "text/x-python",
   "name": "python",
   "nbconvert_exporter": "python",
   "pygments_lexer": "ipython3",
   "version": "3.10.10"
  }
 },
 "nbformat": 4,
 "nbformat_minor": 0
}
