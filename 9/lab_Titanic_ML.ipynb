{
 "cells": [
  {
   "cell_type": "markdown",
   "source": [
    "Лабораторная работа 9.1 Титаник ML\n",
    "1. Загрузить файл, разделить его на train и test. Для test взять 10% случайно выбранных строк таблицы.\n",
    "2. Обучить модели: Decision Tree, XGBoost, Logistic Regression из библиотек sklearn и xgboost. Обучить модели предсказывать столбец label по остальным столбцам таблицы.\n",
    "3. Наладить замер Accuracy - доли верно угаданных ответов.\n",
    "4. Точности всех моделей не должны быть ниже 85%\n",
    "5. С помощью Decision Tree выбрать 2 самых важных признака и проверить точность модели, обученной только на них."
   ],
   "metadata": {
    "collapsed": false
   }
  },
  {
   "cell_type": "code",
   "execution_count": 69,
   "outputs": [],
   "source": [
    "import pandas as pd\n",
    "import numpy as np\n",
    "import matplotlib.pyplot as plt\n",
    "from sklearn.preprocessing import MinMaxScaler\n",
    "from sklearn.metrics import accuracy_score"
   ],
   "metadata": {
    "collapsed": false
   }
  },
  {
   "cell_type": "code",
   "execution_count": 70,
   "outputs": [],
   "source": [
    "from sklearn.model_selection import train_test_split\n",
    "\n",
    "def split_data(X_scaled, y):\n",
    "    X_train, X_test, y_train, y_test = train_test_split(X_scaled, y, test_size=0.1, random_state=1)\n",
    "    X_train, X_val, y_train, y_val = train_test_split(X_train, y_train, test_size=0.1, random_state=1)\n",
    "    return X_train, X_val, X_test, y_train, y_val, y_test"
   ],
   "metadata": {
    "collapsed": false
   }
  },
  {
   "cell_type": "code",
   "execution_count": 71,
   "outputs": [],
   "source": [
    "def scale_data(X):\n",
    "    scaler = MinMaxScaler()\n",
    "    return scaler.fit_transform(X)"
   ],
   "metadata": {
    "collapsed": false
   }
  },
  {
   "cell_type": "code",
   "execution_count": 72,
   "outputs": [],
   "source": [
    "def get_accuracy(model, X_test, y_test):\n",
    "    predict = model.predict(X_test)\n",
    "    return accuracy_score(y_test, predict)"
   ],
   "metadata": {
    "collapsed": false
   }
  },
  {
   "cell_type": "code",
   "execution_count": 73,
   "outputs": [
    {
     "data": {
      "text/plain": "   sex  row_number  liters_drunk  drink  label  age_child  age_adult  age_old  \\\n0    0        90.0           1.0      1      1      False      False     True   \n1    0        81.0           4.0      1      1      False       True    False   \n2    1        14.0           3.0      0      1      False      False     True   \n3    1         0.0           1.0      0      1      False      False     True   \n4    1        84.0           1.0      0      0      False      False     True   \n\n   morning    day  evening  \n0    False  False     True  \n1    False   True    False  \n2    False  False     True  \n3    False   True    False  \n4     True  False    False  ",
      "text/html": "<div>\n<style scoped>\n    .dataframe tbody tr th:only-of-type {\n        vertical-align: middle;\n    }\n\n    .dataframe tbody tr th {\n        vertical-align: top;\n    }\n\n    .dataframe thead th {\n        text-align: right;\n    }\n</style>\n<table border=\"1\" class=\"dataframe\">\n  <thead>\n    <tr style=\"text-align: right;\">\n      <th></th>\n      <th>sex</th>\n      <th>row_number</th>\n      <th>liters_drunk</th>\n      <th>drink</th>\n      <th>label</th>\n      <th>age_child</th>\n      <th>age_adult</th>\n      <th>age_old</th>\n      <th>morning</th>\n      <th>day</th>\n      <th>evening</th>\n    </tr>\n  </thead>\n  <tbody>\n    <tr>\n      <th>0</th>\n      <td>0</td>\n      <td>90.0</td>\n      <td>1.0</td>\n      <td>1</td>\n      <td>1</td>\n      <td>False</td>\n      <td>False</td>\n      <td>True</td>\n      <td>False</td>\n      <td>False</td>\n      <td>True</td>\n    </tr>\n    <tr>\n      <th>1</th>\n      <td>0</td>\n      <td>81.0</td>\n      <td>4.0</td>\n      <td>1</td>\n      <td>1</td>\n      <td>False</td>\n      <td>True</td>\n      <td>False</td>\n      <td>False</td>\n      <td>True</td>\n      <td>False</td>\n    </tr>\n    <tr>\n      <th>2</th>\n      <td>1</td>\n      <td>14.0</td>\n      <td>3.0</td>\n      <td>0</td>\n      <td>1</td>\n      <td>False</td>\n      <td>False</td>\n      <td>True</td>\n      <td>False</td>\n      <td>False</td>\n      <td>True</td>\n    </tr>\n    <tr>\n      <th>3</th>\n      <td>1</td>\n      <td>0.0</td>\n      <td>1.0</td>\n      <td>0</td>\n      <td>1</td>\n      <td>False</td>\n      <td>False</td>\n      <td>True</td>\n      <td>False</td>\n      <td>True</td>\n      <td>False</td>\n    </tr>\n    <tr>\n      <th>4</th>\n      <td>1</td>\n      <td>84.0</td>\n      <td>1.0</td>\n      <td>0</td>\n      <td>0</td>\n      <td>False</td>\n      <td>False</td>\n      <td>True</td>\n      <td>True</td>\n      <td>False</td>\n      <td>False</td>\n    </tr>\n  </tbody>\n</table>\n</div>"
     },
     "execution_count": 73,
     "metadata": {},
     "output_type": "execute_result"
    }
   ],
   "source": [
    "df_main = pd.read_csv('data/titanic_prepared.csv').drop(['Unnamed: 0', 'check_number'], axis=1)\n",
    "df_main.head()"
   ],
   "metadata": {
    "collapsed": false
   }
  },
  {
   "cell_type": "code",
   "execution_count": 74,
   "outputs": [
    {
     "data": {
      "text/plain": "      sex  row_number  liters_drunk  drink  age_child  age_adult  age_old  \\\n0       0          90             1      1          0          0        1   \n1       0          81             4      1          0          1        0   \n2       1          14             3      0          0          0        1   \n3       1           0             1      0          0          0        1   \n4       1          84             1      0          0          0        1   \n...   ...         ...           ...    ...        ...        ...      ...   \n6629    1          55             2      0          0          0        1   \n6630    1          75             5      1          0          0        1   \n6631    1           1             2      1          0          1        0   \n6632    1          68             4      0          0          1        0   \n6633    1          54             5      1          0          1        0   \n\n      morning  day  evening  \n0           0    0        1  \n1           0    1        0  \n2           0    0        1  \n3           0    1        0  \n4           1    0        0  \n...       ...  ...      ...  \n6629        0    0        1  \n6630        0    1        0  \n6631        1    0        0  \n6632        0    1        0  \n6633        1    0        0  \n\n[6634 rows x 10 columns]",
      "text/html": "<div>\n<style scoped>\n    .dataframe tbody tr th:only-of-type {\n        vertical-align: middle;\n    }\n\n    .dataframe tbody tr th {\n        vertical-align: top;\n    }\n\n    .dataframe thead th {\n        text-align: right;\n    }\n</style>\n<table border=\"1\" class=\"dataframe\">\n  <thead>\n    <tr style=\"text-align: right;\">\n      <th></th>\n      <th>sex</th>\n      <th>row_number</th>\n      <th>liters_drunk</th>\n      <th>drink</th>\n      <th>age_child</th>\n      <th>age_adult</th>\n      <th>age_old</th>\n      <th>morning</th>\n      <th>day</th>\n      <th>evening</th>\n    </tr>\n  </thead>\n  <tbody>\n    <tr>\n      <th>0</th>\n      <td>0</td>\n      <td>90</td>\n      <td>1</td>\n      <td>1</td>\n      <td>0</td>\n      <td>0</td>\n      <td>1</td>\n      <td>0</td>\n      <td>0</td>\n      <td>1</td>\n    </tr>\n    <tr>\n      <th>1</th>\n      <td>0</td>\n      <td>81</td>\n      <td>4</td>\n      <td>1</td>\n      <td>0</td>\n      <td>1</td>\n      <td>0</td>\n      <td>0</td>\n      <td>1</td>\n      <td>0</td>\n    </tr>\n    <tr>\n      <th>2</th>\n      <td>1</td>\n      <td>14</td>\n      <td>3</td>\n      <td>0</td>\n      <td>0</td>\n      <td>0</td>\n      <td>1</td>\n      <td>0</td>\n      <td>0</td>\n      <td>1</td>\n    </tr>\n    <tr>\n      <th>3</th>\n      <td>1</td>\n      <td>0</td>\n      <td>1</td>\n      <td>0</td>\n      <td>0</td>\n      <td>0</td>\n      <td>1</td>\n      <td>0</td>\n      <td>1</td>\n      <td>0</td>\n    </tr>\n    <tr>\n      <th>4</th>\n      <td>1</td>\n      <td>84</td>\n      <td>1</td>\n      <td>0</td>\n      <td>0</td>\n      <td>0</td>\n      <td>1</td>\n      <td>1</td>\n      <td>0</td>\n      <td>0</td>\n    </tr>\n    <tr>\n      <th>...</th>\n      <td>...</td>\n      <td>...</td>\n      <td>...</td>\n      <td>...</td>\n      <td>...</td>\n      <td>...</td>\n      <td>...</td>\n      <td>...</td>\n      <td>...</td>\n      <td>...</td>\n    </tr>\n    <tr>\n      <th>6629</th>\n      <td>1</td>\n      <td>55</td>\n      <td>2</td>\n      <td>0</td>\n      <td>0</td>\n      <td>0</td>\n      <td>1</td>\n      <td>0</td>\n      <td>0</td>\n      <td>1</td>\n    </tr>\n    <tr>\n      <th>6630</th>\n      <td>1</td>\n      <td>75</td>\n      <td>5</td>\n      <td>1</td>\n      <td>0</td>\n      <td>0</td>\n      <td>1</td>\n      <td>0</td>\n      <td>1</td>\n      <td>0</td>\n    </tr>\n    <tr>\n      <th>6631</th>\n      <td>1</td>\n      <td>1</td>\n      <td>2</td>\n      <td>1</td>\n      <td>0</td>\n      <td>1</td>\n      <td>0</td>\n      <td>1</td>\n      <td>0</td>\n      <td>0</td>\n    </tr>\n    <tr>\n      <th>6632</th>\n      <td>1</td>\n      <td>68</td>\n      <td>4</td>\n      <td>0</td>\n      <td>0</td>\n      <td>1</td>\n      <td>0</td>\n      <td>0</td>\n      <td>1</td>\n      <td>0</td>\n    </tr>\n    <tr>\n      <th>6633</th>\n      <td>1</td>\n      <td>54</td>\n      <td>5</td>\n      <td>1</td>\n      <td>0</td>\n      <td>1</td>\n      <td>0</td>\n      <td>1</td>\n      <td>0</td>\n      <td>0</td>\n    </tr>\n  </tbody>\n</table>\n<p>6634 rows × 10 columns</p>\n</div>"
     },
     "execution_count": 74,
     "metadata": {},
     "output_type": "execute_result"
    }
   ],
   "source": [
    "y = df_main['label']\n",
    "X = df_main.drop(['label'], axis=1)\n",
    "X = X.astype(int)\n",
    "X"
   ],
   "metadata": {
    "collapsed": false
   }
  },
  {
   "cell_type": "code",
   "execution_count": 75,
   "outputs": [],
   "source": [
    "X_scaled = scale_data(X)\n",
    "X_train, X_val, X_test, y_train, y_val, y_test = split_data(X_scaled, y)"
   ],
   "metadata": {
    "collapsed": false
   }
  },
  {
   "cell_type": "code",
   "execution_count": 76,
   "outputs": [],
   "source": [
    "from sklearn.model_selection import GridSearchCV"
   ],
   "metadata": {
    "collapsed": false
   }
  },
  {
   "cell_type": "markdown",
   "source": [
    "XGBoost"
   ],
   "metadata": {
    "collapsed": false
   }
  },
  {
   "cell_type": "code",
   "execution_count": 77,
   "outputs": [],
   "source": [
    "from xgboost import XGBClassifier\n",
    "def xgb(X_train, X_val, y_train, y_val):\n",
    "    clf = XGBClassifier()\n",
    "    parameters = {\n",
    "        'max_depth': range(2, 10, 1),\n",
    "        'n_estimators': range(60, 220, 40),\n",
    "        'learning_rate': [0.1, 0.01, 0.05]\n",
    "    }\n",
    "    grid = GridSearchCV(clf, parameters, cv=5)\n",
    "    grid.fit(X_train, y_train)\n",
    "    max_depth = grid.best_params_.get('max_depth')\n",
    "    n_estimators = grid.best_params_.get('n_estimators')\n",
    "    learning_rate = grid.best_params_.get('learning_rate')\n",
    "    model = XGBClassifier(n_estimators=n_estimators, max_depth=max_depth,\n",
    "                          learning_rate=learning_rate)\n",
    "    model.fit(X_train, y_train)\n",
    "    predict = model.predict(X_val)\n",
    "    acc = accuracy_score(y_val, predict)\n",
    "    print(f'Лучшие параметры:\\n{grid.best_params_}')\n",
    "    print('Лучшая accuracy на валидации: {:.2%}'.format(acc))\n",
    "    return model"
   ],
   "metadata": {
    "collapsed": false
   }
  },
  {
   "cell_type": "code",
   "execution_count": 78,
   "outputs": [
    {
     "name": "stdout",
     "output_type": "stream",
     "text": [
      "Лучшие параметры:\n",
      "{'learning_rate': 0.1, 'max_depth': 4, 'n_estimators': 60}\n",
      "Лучшая accuracy на валидации: 90.45%\n",
      "Accuracy на тесте: 90.36%\n"
     ]
    }
   ],
   "source": [
    "model = xgb(X_train, X_val, y_train, y_val)\n",
    "acc = get_accuracy(model, X_test, y_test)\n",
    "print('Accuracy на тесте: {:.2%}'.format(acc))"
   ],
   "metadata": {
    "collapsed": false
   }
  },
  {
   "cell_type": "markdown",
   "source": [
    "Logistic Regression"
   ],
   "metadata": {
    "collapsed": false
   }
  },
  {
   "cell_type": "code",
   "execution_count": 79,
   "outputs": [],
   "source": [
    "from sklearn.linear_model import LogisticRegression\n",
    "def logistic_regression(X_train, X_val, y_train, y_val):\n",
    "    clf = LogisticRegression()\n",
    "    parameters = {\n",
    "        'C': np.arange(0.01, 1, 0.01),\n",
    "        'solver': ['lbfgs', 'liblinear', 'newton-cg', 'newton-cholesky', 'sag', 'saga']\n",
    "    }\n",
    "    grid = GridSearchCV(clf, parameters, cv=5)\n",
    "    grid.fit(X_train, y_train)\n",
    "    C = grid.best_params_.get('C')\n",
    "    solver = grid.best_params_.get('solver')\n",
    "    model = LogisticRegression(C=C, solver=solver)\n",
    "    model.fit(X_train, y_train)\n",
    "    predict = model.predict(X_val)\n",
    "    acc = accuracy_score(y_val, predict)\n",
    "    print(f'Лучшие параметры:\\n{grid.best_params_}')\n",
    "    print('Лучшая accuracy на валидации: {:.2%}'.format(acc))\n",
    "    return model"
   ],
   "metadata": {
    "collapsed": false
   }
  },
  {
   "cell_type": "code",
   "execution_count": 80,
   "outputs": [
    {
     "name": "stdout",
     "output_type": "stream",
     "text": [
      "Лучшие параметры:\n",
      "{'C': 0.02, 'solver': 'liblinear'}\n",
      "Лучшая accuracy на валидации: 87.10%\n",
      "Accuracy на тесте: 86.60%\n"
     ]
    }
   ],
   "source": [
    "model = logistic_regression(X_train, X_val, y_train, y_val)\n",
    "acc = get_accuracy(model, X_test, y_test)\n",
    "print('Accuracy на тесте: {:.2%}'.format(acc))"
   ],
   "metadata": {
    "collapsed": false
   }
  },
  {
   "cell_type": "markdown",
   "source": [
    "Decision Tree"
   ],
   "metadata": {
    "collapsed": false
   }
  },
  {
   "cell_type": "code",
   "execution_count": 81,
   "outputs": [],
   "source": [
    "from sklearn.tree import DecisionTreeClassifier"
   ],
   "metadata": {
    "collapsed": false
   }
  },
  {
   "cell_type": "code",
   "execution_count": 82,
   "outputs": [],
   "source": [
    "def decision_tree(X_train, X_val, y_train, y_val):\n",
    "    clf = DecisionTreeClassifier()\n",
    "    parameters = {\n",
    "        'max_depth': range(1, 13, 2),\n",
    "        'min_samples_leaf': range(1, 8),\n",
    "        'min_samples_split': range(2, 10, 2),\n",
    "        'criterion': ['gini', 'entropy', 'log_loss']\n",
    "    }\n",
    "    grid = GridSearchCV(clf, parameters, cv=5)\n",
    "    grid.fit(X_train, y_train)\n",
    "    max_depth = grid.best_params_.get('max_depth')\n",
    "    min_samples_leaf = grid.best_params_.get('min_samples_leaf')\n",
    "    min_samples_split = grid.best_params_.get('min_samples_split')\n",
    "    criterion = grid.best_params_.get('criterion')\n",
    "    model = DecisionTreeClassifier(criterion=criterion, max_depth=max_depth,\n",
    "                                   min_samples_leaf=min_samples_leaf, min_samples_split=min_samples_split)\n",
    "    model.fit(X_train, y_train)\n",
    "    predict = model.predict(X_val)\n",
    "    acc = accuracy_score(y_val, predict)\n",
    "    print(f'Лучшие параметры:\\n{grid.best_params_}')\n",
    "    print('Лучшая accuracy: {:.2%}'.format(acc))\n",
    "    return model"
   ],
   "metadata": {
    "collapsed": false
   }
  },
  {
   "cell_type": "code",
   "execution_count": 83,
   "outputs": [
    {
     "name": "stdout",
     "output_type": "stream",
     "text": [
      "Лучшие параметры:\n",
      "{'criterion': 'entropy', 'max_depth': 7, 'min_samples_leaf': 3, 'min_samples_split': 2}\n",
      "Лучшая accuracy: 90.12%\n",
      "Accuracy: 90.36%\n"
     ]
    }
   ],
   "source": [
    "model = decision_tree(X_train, X_val, y_train, y_val)\n",
    "acc = get_accuracy(model, X_test, y_test)\n",
    "print('Accuracy: {:.2%}'.format(acc))"
   ],
   "metadata": {
    "collapsed": false
   }
  },
  {
   "cell_type": "markdown",
   "source": [
    "Decision Tree (2 признака)"
   ],
   "metadata": {
    "collapsed": false
   }
  },
  {
   "cell_type": "code",
   "execution_count": 84,
   "outputs": [
    {
     "data": {
      "text/plain": "<Figure size 640x480 with 1 Axes>",
      "image/png": "[encoded data removed]"
     },
     "metadata": {},
     "output_type": "display_data"
    }
   ],
   "source": [
    "importances = model.feature_importances_\n",
    "features = X.columns\n",
    "\n",
    "# Добавление сортировки по важности\n",
    "indices = np.argsort(importances)\n",
    "\n",
    "plt.title('Важность признаков')\n",
    "plt.barh(range(len(indices)), importances[indices], color='b', align='center')\n",
    "plt.yticks(range(len(indices)), features[indices])\n",
    "plt.xlabel('Относительная важность')\n",
    "plt.show()"
   ],
   "metadata": {
    "collapsed": false
   }
  },
  {
   "cell_type": "code",
   "execution_count": 85,
   "outputs": [],
   "source": [
    "def test_n_features(model, X_prepared, y, n):\n",
    "    X = X_prepared[features[indices][-n:]]\n",
    "    X = scale_data(X)\n",
    "    X_train, X_val, X_test, y_train, y_val, y_test = split_data(X, y)\n",
    "    model.fit(X_train, y_train)\n",
    "    return get_accuracy(model, X_test, y_test)"
   ],
   "metadata": {
    "collapsed": false
   }
  },
  {
   "cell_type": "code",
   "execution_count": 86,
   "outputs": [
    {
     "name": "stdout",
     "output_type": "stream",
     "text": [
      "Accuracy: 86.45%\n"
     ]
    }
   ],
   "source": [
    "acc = test_n_features(model, X, y, 2)\n",
    "print('Accuracy: {:.2%}'.format(acc))"
   ],
   "metadata": {
    "collapsed": false
   }
  }
 ],
 "metadata": {
  "kernelspec": {
   "display_name": "Python 3",
   "language": "python",
   "name": "python3"
  },
  "language_info": {
   "codemirror_mode": {
    "name": "ipython",
    "version": 2
   },
   "file_extension": ".py",
   "mimetype": "text/x-python",
   "name": "python",
   "nbconvert_exporter": "python",
   "pygments_lexer": "ipython2",
   "version": "2.7.6"
  }
 },
 "nbformat": 4,
 "nbformat_minor": 0
}
