{
 "cells": [
  {
   "cell_type": "markdown",
   "source": [
    "8.1 Проведите извлечение признаков из wells_info_with_prod.csv (хоть один из столбцов с датой и категориальным признаком должен остаться). Целевой переменной будет Prod1Year"
   ],
   "metadata": {
    "collapsed": false
   }
  },
  {
   "cell_type": "code",
   "execution_count": 530,
   "metadata": {
    "collapsed": true
   },
   "outputs": [],
   "source": [
    "import pandas as pd\n",
    "from sklearn.model_selection import train_test_split\n",
    "from sklearn.decomposition import PCA\n",
    "from sklearn.preprocessing import MinMaxScaler\n",
    "from sklearn.ensemble import RandomForestClassifier\n",
    "from sklearn.metrics import accuracy_score\n",
    "from xgboost import XGBClassifier\n",
    "from sklearn.linear_model import LogisticRegression\n",
    "from sklearn.neighbors import KNeighborsClassifier\n",
    "from sklearn.metrics import recall_score"
   ]
  },
  {
   "cell_type": "code",
   "execution_count": 531,
   "outputs": [
    {
     "data": {
      "text/plain": "             API  PermitDate    SpudDate CompletionDate  \\\n0  5005072170100  2014-05-06  2014-05-06     2014-12-02   \n1  5123377130000  2013-07-21  2013-10-06     2014-02-26   \n2  5123379280000  2013-09-08  2013-09-25     2014-09-07   \n3  5123379400000  2013-09-11  2014-12-05     2015-03-31   \n4  5123385820100  2014-01-07  2014-01-13     2014-04-23   \n\n       FirstProductionDate                        operatorNameIHS formation  \\\n0  2014-11-01 00:00:00.000         BURLINGTON RESOURCES O&G CO LP  NIOBRARA   \n1  2014-02-01 00:00:00.000                SRC ENERGY INCORPORATED  NIOBRARA   \n2  2013-11-01 00:00:00.000  BONANZA CREEK ENERGY OPERATING CO LLC  NIOBRARA   \n3  2015-03-01 00:00:00.000              NOBLE ENERGY INCORPORATED  NIOBRARA   \n4  2014-04-01 00:00:00.000    GREAT WESTERN OPERATING COMPANY LLC  NIOBRARA   \n\n      BasinName StateName CountyName   LatWGS84    LonWGS84  \\\n0  DENVER BASIN  COLORADO   ARAPAHOE  39.684606 -104.642128   \n1  DENVER BASIN  COLORADO       WELD  40.509320 -104.780980   \n2  DENVER BASIN  COLORADO       WELD  40.335390 -104.363000   \n3  DENVER BASIN  COLORADO       WELD  40.152220 -104.530780   \n4  DENVER BASIN  COLORADO       WELD  40.508303 -104.868180   \n\n   BottomHoleLatitude  BottomHoleLongitude  LATERAL_LENGTH_BLEND  \\\n0            39.68445           -104.60557                9005.0   \n1            40.49692           -104.77859                4195.0   \n2            40.34780           -104.36863                4273.0   \n3            40.17445           -104.52932                7078.0   \n4            40.49558           -104.86757                3211.0   \n\n   PROP_PER_FOOT  WATER_PER_FOOT  Prod1Year  ProdAll  \n0       994.6866        591.8004     126898   201325  \n1       991.5857        628.6321      22616    34625  \n2      1000.2760        564.4841      47523    69009  \n3       973.4437        824.0020      59474    81048  \n4       783.5919        603.1414      14427    18050  ",
      "text/html": "<div>\n<style scoped>\n    .dataframe tbody tr th:only-of-type {\n        vertical-align: middle;\n    }\n\n    .dataframe tbody tr th {\n        vertical-align: top;\n    }\n\n    .dataframe thead th {\n        text-align: right;\n    }\n</style>\n<table border=\"1\" class=\"dataframe\">\n  <thead>\n    <tr style=\"text-align: right;\">\n      <th></th>\n      <th>API</th>\n      <th>PermitDate</th>\n      <th>SpudDate</th>\n      <th>CompletionDate</th>\n      <th>FirstProductionDate</th>\n      <th>operatorNameIHS</th>\n      <th>formation</th>\n      <th>BasinName</th>\n      <th>StateName</th>\n      <th>CountyName</th>\n      <th>LatWGS84</th>\n      <th>LonWGS84</th>\n      <th>BottomHoleLatitude</th>\n      <th>BottomHoleLongitude</th>\n      <th>LATERAL_LENGTH_BLEND</th>\n      <th>PROP_PER_FOOT</th>\n      <th>WATER_PER_FOOT</th>\n      <th>Prod1Year</th>\n      <th>ProdAll</th>\n    </tr>\n  </thead>\n  <tbody>\n    <tr>\n      <th>0</th>\n      <td>5005072170100</td>\n      <td>2014-05-06</td>\n      <td>2014-05-06</td>\n      <td>2014-12-02</td>\n      <td>2014-11-01 00:00:00.000</td>\n      <td>BURLINGTON RESOURCES O&amp;G CO LP</td>\n      <td>NIOBRARA</td>\n      <td>DENVER BASIN</td>\n      <td>COLORADO</td>\n      <td>ARAPAHOE</td>\n      <td>39.684606</td>\n      <td>-104.642128</td>\n      <td>39.68445</td>\n      <td>-104.60557</td>\n      <td>9005.0</td>\n      <td>994.6866</td>\n      <td>591.8004</td>\n      <td>126898</td>\n      <td>201325</td>\n    </tr>\n    <tr>\n      <th>1</th>\n      <td>5123377130000</td>\n      <td>2013-07-21</td>\n      <td>2013-10-06</td>\n      <td>2014-02-26</td>\n      <td>2014-02-01 00:00:00.000</td>\n      <td>SRC ENERGY INCORPORATED</td>\n      <td>NIOBRARA</td>\n      <td>DENVER BASIN</td>\n      <td>COLORADO</td>\n      <td>WELD</td>\n      <td>40.509320</td>\n      <td>-104.780980</td>\n      <td>40.49692</td>\n      <td>-104.77859</td>\n      <td>4195.0</td>\n      <td>991.5857</td>\n      <td>628.6321</td>\n      <td>22616</td>\n      <td>34625</td>\n    </tr>\n    <tr>\n      <th>2</th>\n      <td>5123379280000</td>\n      <td>2013-09-08</td>\n      <td>2013-09-25</td>\n      <td>2014-09-07</td>\n      <td>2013-11-01 00:00:00.000</td>\n      <td>BONANZA CREEK ENERGY OPERATING CO LLC</td>\n      <td>NIOBRARA</td>\n      <td>DENVER BASIN</td>\n      <td>COLORADO</td>\n      <td>WELD</td>\n      <td>40.335390</td>\n      <td>-104.363000</td>\n      <td>40.34780</td>\n      <td>-104.36863</td>\n      <td>4273.0</td>\n      <td>1000.2760</td>\n      <td>564.4841</td>\n      <td>47523</td>\n      <td>69009</td>\n    </tr>\n    <tr>\n      <th>3</th>\n      <td>5123379400000</td>\n      <td>2013-09-11</td>\n      <td>2014-12-05</td>\n      <td>2015-03-31</td>\n      <td>2015-03-01 00:00:00.000</td>\n      <td>NOBLE ENERGY INCORPORATED</td>\n      <td>NIOBRARA</td>\n      <td>DENVER BASIN</td>\n      <td>COLORADO</td>\n      <td>WELD</td>\n      <td>40.152220</td>\n      <td>-104.530780</td>\n      <td>40.17445</td>\n      <td>-104.52932</td>\n      <td>7078.0</td>\n      <td>973.4437</td>\n      <td>824.0020</td>\n      <td>59474</td>\n      <td>81048</td>\n    </tr>\n    <tr>\n      <th>4</th>\n      <td>5123385820100</td>\n      <td>2014-01-07</td>\n      <td>2014-01-13</td>\n      <td>2014-04-23</td>\n      <td>2014-04-01 00:00:00.000</td>\n      <td>GREAT WESTERN OPERATING COMPANY LLC</td>\n      <td>NIOBRARA</td>\n      <td>DENVER BASIN</td>\n      <td>COLORADO</td>\n      <td>WELD</td>\n      <td>40.508303</td>\n      <td>-104.868180</td>\n      <td>40.49558</td>\n      <td>-104.86757</td>\n      <td>3211.0</td>\n      <td>783.5919</td>\n      <td>603.1414</td>\n      <td>14427</td>\n      <td>18050</td>\n    </tr>\n  </tbody>\n</table>\n</div>"
     },
     "execution_count": 531,
     "metadata": {},
     "output_type": "execute_result"
    }
   ],
   "source": [
    "df_main = pd.read_csv('data/wells_info_with_prod.csv')\n",
    "df_main.head()"
   ],
   "metadata": {
    "collapsed": false
   }
  },
  {
   "cell_type": "code",
   "execution_count": 532,
   "outputs": [
    {
     "data": {
      "text/plain": "  CompletionDate StateName  Prod1Year\n0     2014-12-02  COLORADO     126898\n1     2014-02-26  COLORADO      22616\n2     2014-09-07  COLORADO      47523\n3     2015-03-31  COLORADO      59474\n4     2014-04-23  COLORADO      14427",
      "text/html": "<div>\n<style scoped>\n    .dataframe tbody tr th:only-of-type {\n        vertical-align: middle;\n    }\n\n    .dataframe tbody tr th {\n        vertical-align: top;\n    }\n\n    .dataframe thead th {\n        text-align: right;\n    }\n</style>\n<table border=\"1\" class=\"dataframe\">\n  <thead>\n    <tr style=\"text-align: right;\">\n      <th></th>\n      <th>CompletionDate</th>\n      <th>StateName</th>\n      <th>Prod1Year</th>\n    </tr>\n  </thead>\n  <tbody>\n    <tr>\n      <th>0</th>\n      <td>2014-12-02</td>\n      <td>COLORADO</td>\n      <td>126898</td>\n    </tr>\n    <tr>\n      <th>1</th>\n      <td>2014-02-26</td>\n      <td>COLORADO</td>\n      <td>22616</td>\n    </tr>\n    <tr>\n      <th>2</th>\n      <td>2014-09-07</td>\n      <td>COLORADO</td>\n      <td>47523</td>\n    </tr>\n    <tr>\n      <th>3</th>\n      <td>2015-03-31</td>\n      <td>COLORADO</td>\n      <td>59474</td>\n    </tr>\n    <tr>\n      <th>4</th>\n      <td>2014-04-23</td>\n      <td>COLORADO</td>\n      <td>14427</td>\n    </tr>\n  </tbody>\n</table>\n</div>"
     },
     "execution_count": 532,
     "metadata": {},
     "output_type": "execute_result"
    }
   ],
   "source": [
    "df_main = df_main[['CompletionDate', 'StateName', 'Prod1Year']]\n",
    "df_main.head()"
   ],
   "metadata": {
    "collapsed": false
   }
  },
  {
   "cell_type": "markdown",
   "source": [
    "1. Разделите данные Титаника (train.csv) на тренировочную, валидационную и тестовую часть. С помощью валидационной части подберите гиперпараметры для моделей Random Forest, XGBoost, Logistic Regression и KNN. Получите точность этих моделей на тестовой части."
   ],
   "metadata": {
    "collapsed": false
   }
  },
  {
   "cell_type": "code",
   "execution_count": 533,
   "outputs": [
    {
     "data": {
      "text/plain": "   PassengerId  Survived  Pclass  \\\n0            1         0       3   \n1            2         1       1   \n2            3         1       3   \n3            4         1       1   \n4            5         0       3   \n\n                                                Name     Sex   Age  SibSp  \\\n0                            Braund, Mr. Owen Harris    male  22.0      1   \n1  Cumings, Mrs. John Bradley (Florence Briggs Th...  female  38.0      1   \n2                             Heikkinen, Miss. Laina  female  26.0      0   \n3       Futrelle, Mrs. Jacques Heath (Lily May Peel)  female  35.0      1   \n4                           Allen, Mr. William Henry    male  35.0      0   \n\n   Parch            Ticket     Fare Cabin Embarked  \n0      0         A/5 21171   7.2500   NaN        S  \n1      0          PC 17599  71.2833   C85        C  \n2      0  STON/O2. 3101282   7.9250   NaN        S  \n3      0            113803  53.1000  C123        S  \n4      0            373450   8.0500   NaN        S  ",
      "text/html": "<div>\n<style scoped>\n    .dataframe tbody tr th:only-of-type {\n        vertical-align: middle;\n    }\n\n    .dataframe tbody tr th {\n        vertical-align: top;\n    }\n\n    .dataframe thead th {\n        text-align: right;\n    }\n</style>\n<table border=\"1\" class=\"dataframe\">\n  <thead>\n    <tr style=\"text-align: right;\">\n      <th></th>\n      <th>PassengerId</th>\n      <th>Survived</th>\n      <th>Pclass</th>\n      <th>Name</th>\n      <th>Sex</th>\n      <th>Age</th>\n      <th>SibSp</th>\n      <th>Parch</th>\n      <th>Ticket</th>\n      <th>Fare</th>\n      <th>Cabin</th>\n      <th>Embarked</th>\n    </tr>\n  </thead>\n  <tbody>\n    <tr>\n      <th>0</th>\n      <td>1</td>\n      <td>0</td>\n      <td>3</td>\n      <td>Braund, Mr. Owen Harris</td>\n      <td>male</td>\n      <td>22.0</td>\n      <td>1</td>\n      <td>0</td>\n      <td>A/5 21171</td>\n      <td>7.2500</td>\n      <td>NaN</td>\n      <td>S</td>\n    </tr>\n    <tr>\n      <th>1</th>\n      <td>2</td>\n      <td>1</td>\n      <td>1</td>\n      <td>Cumings, Mrs. John Bradley (Florence Briggs Th...</td>\n      <td>female</td>\n      <td>38.0</td>\n      <td>1</td>\n      <td>0</td>\n      <td>PC 17599</td>\n      <td>71.2833</td>\n      <td>C85</td>\n      <td>C</td>\n    </tr>\n    <tr>\n      <th>2</th>\n      <td>3</td>\n      <td>1</td>\n      <td>3</td>\n      <td>Heikkinen, Miss. Laina</td>\n      <td>female</td>\n      <td>26.0</td>\n      <td>0</td>\n      <td>0</td>\n      <td>STON/O2. 3101282</td>\n      <td>7.9250</td>\n      <td>NaN</td>\n      <td>S</td>\n    </tr>\n    <tr>\n      <th>3</th>\n      <td>4</td>\n      <td>1</td>\n      <td>1</td>\n      <td>Futrelle, Mrs. Jacques Heath (Lily May Peel)</td>\n      <td>female</td>\n      <td>35.0</td>\n      <td>1</td>\n      <td>0</td>\n      <td>113803</td>\n      <td>53.1000</td>\n      <td>C123</td>\n      <td>S</td>\n    </tr>\n    <tr>\n      <th>4</th>\n      <td>5</td>\n      <td>0</td>\n      <td>3</td>\n      <td>Allen, Mr. William Henry</td>\n      <td>male</td>\n      <td>35.0</td>\n      <td>0</td>\n      <td>0</td>\n      <td>373450</td>\n      <td>8.0500</td>\n      <td>NaN</td>\n      <td>S</td>\n    </tr>\n  </tbody>\n</table>\n</div>"
     },
     "execution_count": 533,
     "metadata": {},
     "output_type": "execute_result"
    }
   ],
   "source": [
    "df_main = pd.read_csv('data/titanic/train.csv')\n",
    "df_main.head()"
   ],
   "metadata": {
    "collapsed": false
   }
  },
  {
   "cell_type": "code",
   "execution_count": 534,
   "outputs": [],
   "source": [
    "def prepare_num(df):\n",
    "    df_num = df.drop(['Sex', 'Embarked', 'Pclass'], axis=1)\n",
    "    df_sex = pd.get_dummies(df['Sex'])\n",
    "    df_emb = pd.get_dummies(df['Embarked'], prefix='Emb')\n",
    "    df_pcl = pd.get_dummies(df['Pclass'], prefix='Pclass')\n",
    "\n",
    "    df_num = pd.concat((df_num, df_sex, df_emb, df_pcl), axis=1)\n",
    "    return df_num"
   ],
   "metadata": {
    "collapsed": false
   }
  },
  {
   "cell_type": "code",
   "execution_count": 535,
   "outputs": [
    {
     "data": {
      "text/plain": "(    Age  SibSp  Parch     Fare  female  male  Emb_C  Emb_Q  Emb_S  Pclass_1  \\\n 0  22.0      1      0   7.2500       0     1      0      0      1         0   \n 1  38.0      1      0  71.2833       1     0      1      0      0         1   \n 2  26.0      0      0   7.9250       1     0      0      0      1         0   \n 3  35.0      1      0  53.1000       1     0      0      0      1         1   \n 4  35.0      0      0   8.0500       0     1      0      0      1         0   \n \n    Pclass_2  Pclass_3  \n 0         0         1  \n 1         0         0  \n 2         0         1  \n 3         0         0  \n 4         0         1  ,\n 0    0\n 1    1\n 2    1\n 3    1\n 4    0\n Name: Survived, dtype: int64)"
     },
     "execution_count": 535,
     "metadata": {},
     "output_type": "execute_result"
    }
   ],
   "source": [
    "y = df_main['Survived']\n",
    "X = df_main.drop(['PassengerId', 'Survived', 'Name', 'Ticket', 'Cabin'], axis=1)\n",
    "X = prepare_num(X)\n",
    "X.head(), y.head()"
   ],
   "metadata": {
    "collapsed": false
   }
  },
  {
   "cell_type": "code",
   "execution_count": 536,
   "outputs": [
    {
     "name": "stdout",
     "output_type": "stream",
     "text": [
      "      Age  SibSp  Parch     Fare  female  male  Emb_C  Emb_Q  Emb_S  Pclass_1  \\\n",
      "0    22.0      1      0   7.2500       0     1      0      0      1         0   \n",
      "1    38.0      1      0  71.2833       1     0      1      0      0         1   \n",
      "2    26.0      0      0   7.9250       1     0      0      0      1         0   \n",
      "3    35.0      1      0  53.1000       1     0      0      0      1         1   \n",
      "4    35.0      0      0   8.0500       0     1      0      0      1         0   \n",
      "..    ...    ...    ...      ...     ...   ...    ...    ...    ...       ...   \n",
      "886  27.0      0      0  13.0000       0     1      0      0      1         0   \n",
      "887  19.0      0      0  30.0000       1     0      0      0      1         1   \n",
      "888  28.0      1      2  23.4500       1     0      0      0      1         0   \n",
      "889  26.0      0      0  30.0000       0     1      1      0      0         1   \n",
      "890  32.0      0      0   7.7500       0     1      0      1      0         0   \n",
      "\n",
      "     Pclass_2  Pclass_3  \n",
      "0           0         1  \n",
      "1           0         0  \n",
      "2           0         1  \n",
      "3           0         0  \n",
      "4           0         1  \n",
      "..        ...       ...  \n",
      "886         1         0  \n",
      "887         0         0  \n",
      "888         0         1  \n",
      "889         0         0  \n",
      "890         0         1  \n",
      "\n",
      "[891 rows x 12 columns]\n"
     ]
    }
   ],
   "source": [
    "X = X.fillna(X.median())\n",
    "print(X)"
   ],
   "metadata": {
    "collapsed": false
   }
  },
  {
   "cell_type": "code",
   "execution_count": 537,
   "outputs": [],
   "source": [
    "scaler = MinMaxScaler()\n",
    "X_scaled = scaler.fit_transform(X)"
   ],
   "metadata": {
    "collapsed": false
   }
  },
  {
   "cell_type": "code",
   "execution_count": 538,
   "outputs": [
    {
     "name": "stdout",
     "output_type": "stream",
     "text": [
      "(569, 12) (143, 12) (179, 12)\n",
      "(569,) (143,) (179,)\n"
     ]
    }
   ],
   "source": [
    "X_train, X_test, y_train, y_test = train_test_split(X_scaled, y, test_size=0.2, random_state=1)\n",
    "X_train, X_val, y_train, y_val = train_test_split(X_train, y_train, test_size=0.2, random_state=1)\n",
    "print(X_train.shape, X_val.shape, X_test.shape)\n",
    "print(y_train.shape, y_val.shape, y_test.shape)"
   ],
   "metadata": {
    "collapsed": false
   }
  },
  {
   "cell_type": "code",
   "execution_count": 539,
   "outputs": [],
   "source": [
    "import matplotlib.pyplot as plt\n",
    "import numpy as np"
   ],
   "metadata": {
    "collapsed": false
   }
  },
  {
   "cell_type": "markdown",
   "source": [
    "RandomForest"
   ],
   "metadata": {
    "collapsed": false
   }
  },
  {
   "cell_type": "code",
   "execution_count": 540,
   "outputs": [
    {
     "data": {
      "text/plain": "0.9797979797979798"
     },
     "metadata": {},
     "output_type": "display_data"
    }
   ],
   "source": [
    "rfc = RandomForestClassifier()\n",
    "rfc.fit(X, y)\n",
    "display(rfc.score(X, y))"
   ],
   "metadata": {
    "collapsed": false
   }
  },
  {
   "cell_type": "code",
   "execution_count": 540,
   "outputs": [],
   "source": [],
   "metadata": {
    "collapsed": false
   }
  },
  {
   "cell_type": "code",
   "execution_count": 541,
   "outputs": [],
   "source": [
    "crit = (\"gini\", \"entropy\")\n",
    "acc_0 = 0\n",
    "cr_0 = \" \"\n",
    "est_0 = 0\n",
    "dep = 0\n",
    "for cr in crit:\n",
    "    for estimators in range(20, 40):\n",
    "        for depth in range(1, 10):\n",
    "            model = RandomForestClassifier(n_estimators=estimators, max_depth=depth, criterion=cr)\n",
    "            model.fit(X_train, y_train)\n",
    "            predict = model.predict(X_val)\n",
    "            acc = accuracy_score(y_val, predict)\n",
    "            if acc_0 < acc:\n",
    "                acc_0 = acc\n",
    "                cr_0 = cr\n",
    "                est_0 = estimators\n",
    "                dep = depth"
   ],
   "metadata": {
    "collapsed": false
   }
  },
  {
   "cell_type": "code",
   "execution_count": 542,
   "outputs": [
    {
     "name": "stdout",
     "output_type": "stream",
     "text": [
      "gini\n",
      "24\n",
      "9\n",
      "0.8461538461538461\n"
     ]
    }
   ],
   "source": [
    "print(cr_0)\n",
    "print(est_0)\n",
    "print(dep)\n",
    "print(acc_0)"
   ],
   "metadata": {
    "collapsed": false
   }
  },
  {
   "cell_type": "code",
   "execution_count": 543,
   "outputs": [],
   "source": [
    "model = RandomForestClassifier(n_estimators=est_0, max_depth=dep, criterion=cr_0)\n",
    "model.fit(X_train, y_train)\n",
    "predict = model.predict(X_test)\n",
    "acc = accuracy_score(y_test, predict)"
   ],
   "metadata": {
    "collapsed": false
   }
  },
  {
   "cell_type": "code",
   "execution_count": 544,
   "outputs": [
    {
     "data": {
      "text/plain": "0.8212290502793296"
     },
     "execution_count": 544,
     "metadata": {},
     "output_type": "execute_result"
    }
   ],
   "source": [
    "acc"
   ],
   "metadata": {
    "collapsed": false
   }
  },
  {
   "cell_type": "markdown",
   "source": [
    "2. С помощью RandomForest выберите 2, 4, 8 самых важных признаков и проверьте точность моделей только на этих признаках."
   ],
   "metadata": {
    "collapsed": false
   }
  },
  {
   "cell_type": "code",
   "execution_count": 546,
   "outputs": [
    {
     "name": "stdout",
     "output_type": "stream",
     "text": [
      "      Age  SibSp  Parch     Fare  female  male  Emb_C  Emb_Q  Emb_S  Pclass_1  \\\n",
      "0    22.0      1      0   7.2500       0     1      0      0      1         0   \n",
      "1    38.0      1      0  71.2833       1     0      1      0      0         1   \n",
      "2    26.0      0      0   7.9250       1     0      0      0      1         0   \n",
      "3    35.0      1      0  53.1000       1     0      0      0      1         1   \n",
      "4    35.0      0      0   8.0500       0     1      0      0      1         0   \n",
      "..    ...    ...    ...      ...     ...   ...    ...    ...    ...       ...   \n",
      "886  27.0      0      0  13.0000       0     1      0      0      1         0   \n",
      "887  19.0      0      0  30.0000       1     0      0      0      1         1   \n",
      "888  28.0      1      2  23.4500       1     0      0      0      1         0   \n",
      "889  26.0      0      0  30.0000       0     1      1      0      0         1   \n",
      "890  32.0      0      0   7.7500       0     1      0      1      0         0   \n",
      "\n",
      "     Pclass_2  Pclass_3  \n",
      "0           0         1  \n",
      "1           0         0  \n",
      "2           0         1  \n",
      "3           0         0  \n",
      "4           0         1  \n",
      "..        ...       ...  \n",
      "886         1         0  \n",
      "887         0         0  \n",
      "888         0         1  \n",
      "889         0         0  \n",
      "890         0         1  \n",
      "\n",
      "[891 rows x 12 columns]\n"
     ]
    },
    {
     "ename": "KeyError",
     "evalue": "\"['Name'] not in index\"",
     "output_type": "error",
     "traceback": [
      "\u001B[1;31m---------------------------------------------------------------------------\u001B[0m",
      "\u001B[1;31mKeyError\u001B[0m                                  Traceback (most recent call last)",
      "Cell \u001B[1;32mIn [546], line 2\u001B[0m\n\u001B[0;32m      1\u001B[0m \u001B[38;5;28mprint\u001B[39m(X)\n\u001B[1;32m----> 2\u001B[0m X_2 \u001B[38;5;241m=\u001B[39m \u001B[43mX\u001B[49m\u001B[43m[\u001B[49m\u001B[43m[\u001B[49m\u001B[38;5;124;43m\"\u001B[39;49m\u001B[38;5;124;43mName\u001B[39;49m\u001B[38;5;124;43m\"\u001B[39;49m\u001B[43m,\u001B[49m\u001B[43m \u001B[49m\u001B[38;5;124;43m\"\u001B[39;49m\u001B[38;5;124;43mAge\u001B[39;49m\u001B[38;5;124;43m\"\u001B[39;49m\u001B[43m]\u001B[49m\u001B[43m]\u001B[49m\n\u001B[0;32m      3\u001B[0m X_scaled \u001B[38;5;241m=\u001B[39m scaler\u001B[38;5;241m.\u001B[39mfit_transform(X)\n",
      "File \u001B[1;32mD:\\Develop\\Python310\\lib\\site-packages\\pandas\\core\\frame.py:3810\u001B[0m, in \u001B[0;36mDataFrame.__getitem__\u001B[1;34m(self, key)\u001B[0m\n\u001B[0;32m   3808\u001B[0m     \u001B[38;5;28;01mif\u001B[39;00m is_iterator(key):\n\u001B[0;32m   3809\u001B[0m         key \u001B[38;5;241m=\u001B[39m \u001B[38;5;28mlist\u001B[39m(key)\n\u001B[1;32m-> 3810\u001B[0m     indexer \u001B[38;5;241m=\u001B[39m \u001B[38;5;28;43mself\u001B[39;49m\u001B[38;5;241;43m.\u001B[39;49m\u001B[43mcolumns\u001B[49m\u001B[38;5;241;43m.\u001B[39;49m\u001B[43m_get_indexer_strict\u001B[49m\u001B[43m(\u001B[49m\u001B[43mkey\u001B[49m\u001B[43m,\u001B[49m\u001B[43m \u001B[49m\u001B[38;5;124;43m\"\u001B[39;49m\u001B[38;5;124;43mcolumns\u001B[39;49m\u001B[38;5;124;43m\"\u001B[39;49m\u001B[43m)\u001B[49m[\u001B[38;5;241m1\u001B[39m]\n\u001B[0;32m   3812\u001B[0m \u001B[38;5;66;03m# take() does not accept boolean indexers\u001B[39;00m\n\u001B[0;32m   3813\u001B[0m \u001B[38;5;28;01mif\u001B[39;00m \u001B[38;5;28mgetattr\u001B[39m(indexer, \u001B[38;5;124m\"\u001B[39m\u001B[38;5;124mdtype\u001B[39m\u001B[38;5;124m\"\u001B[39m, \u001B[38;5;28;01mNone\u001B[39;00m) \u001B[38;5;241m==\u001B[39m \u001B[38;5;28mbool\u001B[39m:\n",
      "File \u001B[1;32mD:\\Develop\\Python310\\lib\\site-packages\\pandas\\core\\indexes\\base.py:6111\u001B[0m, in \u001B[0;36mIndex._get_indexer_strict\u001B[1;34m(self, key, axis_name)\u001B[0m\n\u001B[0;32m   6108\u001B[0m \u001B[38;5;28;01melse\u001B[39;00m:\n\u001B[0;32m   6109\u001B[0m     keyarr, indexer, new_indexer \u001B[38;5;241m=\u001B[39m \u001B[38;5;28mself\u001B[39m\u001B[38;5;241m.\u001B[39m_reindex_non_unique(keyarr)\n\u001B[1;32m-> 6111\u001B[0m \u001B[38;5;28;43mself\u001B[39;49m\u001B[38;5;241;43m.\u001B[39;49m\u001B[43m_raise_if_missing\u001B[49m\u001B[43m(\u001B[49m\u001B[43mkeyarr\u001B[49m\u001B[43m,\u001B[49m\u001B[43m \u001B[49m\u001B[43mindexer\u001B[49m\u001B[43m,\u001B[49m\u001B[43m \u001B[49m\u001B[43maxis_name\u001B[49m\u001B[43m)\u001B[49m\n\u001B[0;32m   6113\u001B[0m keyarr \u001B[38;5;241m=\u001B[39m \u001B[38;5;28mself\u001B[39m\u001B[38;5;241m.\u001B[39mtake(indexer)\n\u001B[0;32m   6114\u001B[0m \u001B[38;5;28;01mif\u001B[39;00m \u001B[38;5;28misinstance\u001B[39m(key, Index):\n\u001B[0;32m   6115\u001B[0m     \u001B[38;5;66;03m# GH 42790 - Preserve name from an Index\u001B[39;00m\n",
      "File \u001B[1;32mD:\\Develop\\Python310\\lib\\site-packages\\pandas\\core\\indexes\\base.py:6174\u001B[0m, in \u001B[0;36mIndex._raise_if_missing\u001B[1;34m(self, key, indexer, axis_name)\u001B[0m\n\u001B[0;32m   6171\u001B[0m     \u001B[38;5;28;01mraise\u001B[39;00m \u001B[38;5;167;01mKeyError\u001B[39;00m(\u001B[38;5;124mf\u001B[39m\u001B[38;5;124m\"\u001B[39m\u001B[38;5;124mNone of [\u001B[39m\u001B[38;5;132;01m{\u001B[39;00mkey\u001B[38;5;132;01m}\u001B[39;00m\u001B[38;5;124m] are in the [\u001B[39m\u001B[38;5;132;01m{\u001B[39;00maxis_name\u001B[38;5;132;01m}\u001B[39;00m\u001B[38;5;124m]\u001B[39m\u001B[38;5;124m\"\u001B[39m)\n\u001B[0;32m   6173\u001B[0m not_found \u001B[38;5;241m=\u001B[39m \u001B[38;5;28mlist\u001B[39m(ensure_index(key)[missing_mask\u001B[38;5;241m.\u001B[39mnonzero()[\u001B[38;5;241m0\u001B[39m]]\u001B[38;5;241m.\u001B[39munique())\n\u001B[1;32m-> 6174\u001B[0m \u001B[38;5;28;01mraise\u001B[39;00m \u001B[38;5;167;01mKeyError\u001B[39;00m(\u001B[38;5;124mf\u001B[39m\u001B[38;5;124m\"\u001B[39m\u001B[38;5;132;01m{\u001B[39;00mnot_found\u001B[38;5;132;01m}\u001B[39;00m\u001B[38;5;124m not in index\u001B[39m\u001B[38;5;124m\"\u001B[39m)\n",
      "\u001B[1;31mKeyError\u001B[0m: \"['Name'] not in index\""
     ]
    }
   ],
   "source": [
    "print(X)\n",
    "X_2 = X[[\"Name\", \"Age\"]]\n",
    "X_scaled = scaler.fit_transform(X)"
   ],
   "metadata": {
    "collapsed": false
   }
  },
  {
   "cell_type": "code",
   "execution_count": null,
   "outputs": [],
   "source": [
    "y_predict = model.predict(X_test)"
   ],
   "metadata": {
    "collapsed": false
   }
  },
  {
   "cell_type": "markdown",
   "source": [
    "3. Используя координаты скважин из файла wells_info.csv разделите их на кластера с помощью любых 4 методов и отобразите разделение. Параметры подбираются самостоятельно."
   ],
   "metadata": {
    "collapsed": false
   }
  },
  {
   "cell_type": "code",
   "execution_count": null,
   "outputs": [],
   "source": [],
   "metadata": {
    "collapsed": false
   }
  },
  {
   "cell_type": "markdown",
   "source": [
    "4. Приведите отобранные в 6.1 задании признаки из файла wells_info_with_prod.csv в двумерное пространство. Выделите цветом добычу с этой скважины."
   ],
   "metadata": {
    "collapsed": false
   }
  },
  {
   "cell_type": "code",
   "execution_count": null,
   "outputs": [],
   "source": [],
   "metadata": {
    "collapsed": false
   }
  },
  {
   "cell_type": "markdown",
   "source": [
    "Лабораторная работа 9.1 Титаник ML\n",
    "1. Загрузить файл, разделить его на train и test. Для test взять 10% случайно выбранных строк таблицы.\n",
    "2. Обучить модели: Decision Tree, XGBoost, Logistic Regression из библиотек sklearn и xgboost. Обучить модели предсказывать столбец label по остальным столбцам таблицы.\n",
    "3. Наладить замер Accuracy - доли верно угаданных ответов.\n",
    "4. Точности всех моделей не должны быть ниже 85%\n",
    "5. С помощью Decision Tree выбрать 2 самых важных признака и проверить точность модели, обученной только на них."
   ],
   "metadata": {
    "collapsed": false
   }
  },
  {
   "cell_type": "code",
   "execution_count": null,
   "outputs": [],
   "source": [
    "df_main = pd.read_csv('data/titanic_prepared.csv')\n",
    "df_main.head()"
   ],
   "metadata": {
    "collapsed": false
   }
  },
  {
   "cell_type": "code",
   "execution_count": null,
   "outputs": [],
   "source": [
    "X_train, X_test, y_train, y_test = train_test_split(X, y, test_size=0.2, random_state=1)"
   ],
   "metadata": {
    "collapsed": false
   }
  }
 ],
 "metadata": {
  "kernelspec": {
   "display_name": "Python 3",
   "language": "python",
   "name": "python3"
  },
  "language_info": {
   "codemirror_mode": {
    "name": "ipython",
    "version": 2
   },
   "file_extension": ".py",
   "mimetype": "text/x-python",
   "name": "python",
   "nbconvert_exporter": "python",
   "pygments_lexer": "ipython2",
   "version": "2.7.6"
  }
 },
 "nbformat": 4,
 "nbformat_minor": 0
}
