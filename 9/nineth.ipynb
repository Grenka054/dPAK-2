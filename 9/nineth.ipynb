{
 "cells": [
  {
   "cell_type": "code",
   "execution_count": 156,
   "metadata": {
    "collapsed": true
   },
   "outputs": [],
   "source": [
    "import pandas as pd\n",
    "import numpy as np\n",
    "import matplotlib.pyplot as plt"
   ]
  },
  {
   "cell_type": "markdown",
   "source": [
    "8.1 Проведите извлечение признаков из wells_info_with_prod.csv (хоть один из столбцов с датой и категориальным признаком должен остаться). Целевой переменной будет Prod1Year"
   ],
   "metadata": {
    "collapsed": false
   }
  },
  {
   "cell_type": "code",
   "execution_count": 157,
   "outputs": [
    {
     "data": {
      "text/plain": "             API  PermitDate    SpudDate CompletionDate  \\\n0  5005072170100  2014-05-06  2014-05-06     2014-12-02   \n1  5123377130000  2013-07-21  2013-10-06     2014-02-26   \n2  5123379280000  2013-09-08  2013-09-25     2014-09-07   \n3  5123379400000  2013-09-11  2014-12-05     2015-03-31   \n4  5123385820100  2014-01-07  2014-01-13     2014-04-23   \n\n       FirstProductionDate                        operatorNameIHS formation  \\\n0  2014-11-01 00:00:00.000         BURLINGTON RESOURCES O&G CO LP  NIOBRARA   \n1  2014-02-01 00:00:00.000                SRC ENERGY INCORPORATED  NIOBRARA   \n2  2013-11-01 00:00:00.000  BONANZA CREEK ENERGY OPERATING CO LLC  NIOBRARA   \n3  2015-03-01 00:00:00.000              NOBLE ENERGY INCORPORATED  NIOBRARA   \n4  2014-04-01 00:00:00.000    GREAT WESTERN OPERATING COMPANY LLC  NIOBRARA   \n\n      BasinName StateName CountyName   LatWGS84    LonWGS84  \\\n0  DENVER BASIN  COLORADO   ARAPAHOE  39.684606 -104.642128   \n1  DENVER BASIN  COLORADO       WELD  40.509320 -104.780980   \n2  DENVER BASIN  COLORADO       WELD  40.335390 -104.363000   \n3  DENVER BASIN  COLORADO       WELD  40.152220 -104.530780   \n4  DENVER BASIN  COLORADO       WELD  40.508303 -104.868180   \n\n   BottomHoleLatitude  BottomHoleLongitude  LATERAL_LENGTH_BLEND  \\\n0            39.68445           -104.60557                9005.0   \n1            40.49692           -104.77859                4195.0   \n2            40.34780           -104.36863                4273.0   \n3            40.17445           -104.52932                7078.0   \n4            40.49558           -104.86757                3211.0   \n\n   PROP_PER_FOOT  WATER_PER_FOOT  Prod1Year  ProdAll  \n0       994.6866        591.8004     126898   201325  \n1       991.5857        628.6321      22616    34625  \n2      1000.2760        564.4841      47523    69009  \n3       973.4437        824.0020      59474    81048  \n4       783.5919        603.1414      14427    18050  ",
      "text/html": "<div>\n<style scoped>\n    .dataframe tbody tr th:only-of-type {\n        vertical-align: middle;\n    }\n\n    .dataframe tbody tr th {\n        vertical-align: top;\n    }\n\n    .dataframe thead th {\n        text-align: right;\n    }\n</style>\n<table border=\"1\" class=\"dataframe\">\n  <thead>\n    <tr style=\"text-align: right;\">\n      <th></th>\n      <th>API</th>\n      <th>PermitDate</th>\n      <th>SpudDate</th>\n      <th>CompletionDate</th>\n      <th>FirstProductionDate</th>\n      <th>operatorNameIHS</th>\n      <th>formation</th>\n      <th>BasinName</th>\n      <th>StateName</th>\n      <th>CountyName</th>\n      <th>LatWGS84</th>\n      <th>LonWGS84</th>\n      <th>BottomHoleLatitude</th>\n      <th>BottomHoleLongitude</th>\n      <th>LATERAL_LENGTH_BLEND</th>\n      <th>PROP_PER_FOOT</th>\n      <th>WATER_PER_FOOT</th>\n      <th>Prod1Year</th>\n      <th>ProdAll</th>\n    </tr>\n  </thead>\n  <tbody>\n    <tr>\n      <th>0</th>\n      <td>5005072170100</td>\n      <td>2014-05-06</td>\n      <td>2014-05-06</td>\n      <td>2014-12-02</td>\n      <td>2014-11-01 00:00:00.000</td>\n      <td>BURLINGTON RESOURCES O&amp;G CO LP</td>\n      <td>NIOBRARA</td>\n      <td>DENVER BASIN</td>\n      <td>COLORADO</td>\n      <td>ARAPAHOE</td>\n      <td>39.684606</td>\n      <td>-104.642128</td>\n      <td>39.68445</td>\n      <td>-104.60557</td>\n      <td>9005.0</td>\n      <td>994.6866</td>\n      <td>591.8004</td>\n      <td>126898</td>\n      <td>201325</td>\n    </tr>\n    <tr>\n      <th>1</th>\n      <td>5123377130000</td>\n      <td>2013-07-21</td>\n      <td>2013-10-06</td>\n      <td>2014-02-26</td>\n      <td>2014-02-01 00:00:00.000</td>\n      <td>SRC ENERGY INCORPORATED</td>\n      <td>NIOBRARA</td>\n      <td>DENVER BASIN</td>\n      <td>COLORADO</td>\n      <td>WELD</td>\n      <td>40.509320</td>\n      <td>-104.780980</td>\n      <td>40.49692</td>\n      <td>-104.77859</td>\n      <td>4195.0</td>\n      <td>991.5857</td>\n      <td>628.6321</td>\n      <td>22616</td>\n      <td>34625</td>\n    </tr>\n    <tr>\n      <th>2</th>\n      <td>5123379280000</td>\n      <td>2013-09-08</td>\n      <td>2013-09-25</td>\n      <td>2014-09-07</td>\n      <td>2013-11-01 00:00:00.000</td>\n      <td>BONANZA CREEK ENERGY OPERATING CO LLC</td>\n      <td>NIOBRARA</td>\n      <td>DENVER BASIN</td>\n      <td>COLORADO</td>\n      <td>WELD</td>\n      <td>40.335390</td>\n      <td>-104.363000</td>\n      <td>40.34780</td>\n      <td>-104.36863</td>\n      <td>4273.0</td>\n      <td>1000.2760</td>\n      <td>564.4841</td>\n      <td>47523</td>\n      <td>69009</td>\n    </tr>\n    <tr>\n      <th>3</th>\n      <td>5123379400000</td>\n      <td>2013-09-11</td>\n      <td>2014-12-05</td>\n      <td>2015-03-31</td>\n      <td>2015-03-01 00:00:00.000</td>\n      <td>NOBLE ENERGY INCORPORATED</td>\n      <td>NIOBRARA</td>\n      <td>DENVER BASIN</td>\n      <td>COLORADO</td>\n      <td>WELD</td>\n      <td>40.152220</td>\n      <td>-104.530780</td>\n      <td>40.17445</td>\n      <td>-104.52932</td>\n      <td>7078.0</td>\n      <td>973.4437</td>\n      <td>824.0020</td>\n      <td>59474</td>\n      <td>81048</td>\n    </tr>\n    <tr>\n      <th>4</th>\n      <td>5123385820100</td>\n      <td>2014-01-07</td>\n      <td>2014-01-13</td>\n      <td>2014-04-23</td>\n      <td>2014-04-01 00:00:00.000</td>\n      <td>GREAT WESTERN OPERATING COMPANY LLC</td>\n      <td>NIOBRARA</td>\n      <td>DENVER BASIN</td>\n      <td>COLORADO</td>\n      <td>WELD</td>\n      <td>40.508303</td>\n      <td>-104.868180</td>\n      <td>40.49558</td>\n      <td>-104.86757</td>\n      <td>3211.0</td>\n      <td>783.5919</td>\n      <td>603.1414</td>\n      <td>14427</td>\n      <td>18050</td>\n    </tr>\n  </tbody>\n</table>\n</div>"
     },
     "execution_count": 157,
     "metadata": {},
     "output_type": "execute_result"
    }
   ],
   "source": [
    "df_main = pd.read_csv('data/wells_info_with_prod.csv')\n",
    "df_main.head()"
   ],
   "metadata": {
    "collapsed": false
   }
  },
  {
   "cell_type": "code",
   "execution_count": 158,
   "outputs": [
    {
     "data": {
      "text/plain": "  CompletionDate StateName  Prod1Year\n0     2014-12-02  COLORADO     126898\n1     2014-02-26  COLORADO      22616\n2     2014-09-07  COLORADO      47523\n3     2015-03-31  COLORADO      59474\n4     2014-04-23  COLORADO      14427",
      "text/html": "<div>\n<style scoped>\n    .dataframe tbody tr th:only-of-type {\n        vertical-align: middle;\n    }\n\n    .dataframe tbody tr th {\n        vertical-align: top;\n    }\n\n    .dataframe thead th {\n        text-align: right;\n    }\n</style>\n<table border=\"1\" class=\"dataframe\">\n  <thead>\n    <tr style=\"text-align: right;\">\n      <th></th>\n      <th>CompletionDate</th>\n      <th>StateName</th>\n      <th>Prod1Year</th>\n    </tr>\n  </thead>\n  <tbody>\n    <tr>\n      <th>0</th>\n      <td>2014-12-02</td>\n      <td>COLORADO</td>\n      <td>126898</td>\n    </tr>\n    <tr>\n      <th>1</th>\n      <td>2014-02-26</td>\n      <td>COLORADO</td>\n      <td>22616</td>\n    </tr>\n    <tr>\n      <th>2</th>\n      <td>2014-09-07</td>\n      <td>COLORADO</td>\n      <td>47523</td>\n    </tr>\n    <tr>\n      <th>3</th>\n      <td>2015-03-31</td>\n      <td>COLORADO</td>\n      <td>59474</td>\n    </tr>\n    <tr>\n      <th>4</th>\n      <td>2014-04-23</td>\n      <td>COLORADO</td>\n      <td>14427</td>\n    </tr>\n  </tbody>\n</table>\n</div>"
     },
     "execution_count": 158,
     "metadata": {},
     "output_type": "execute_result"
    }
   ],
   "source": [
    "df_main = df_main[['CompletionDate', 'StateName', 'Prod1Year']]\n",
    "df_main.head()"
   ],
   "metadata": {
    "collapsed": false
   }
  },
  {
   "cell_type": "markdown",
   "source": [
    "1. Разделите данные Титаника (train.csv) на тренировочную, валидационную и тестовую часть. С помощью валидационной части подберите гиперпараметры для моделей Random Forest, XGBoost, Logistic Regression и KNN. Получите точность этих моделей на тестовой части."
   ],
   "metadata": {
    "collapsed": false
   }
  },
  {
   "cell_type": "code",
   "execution_count": 159,
   "outputs": [],
   "source": [
    "from sklearn.model_selection import train_test_split\n",
    "from sklearn.preprocessing import MinMaxScaler\n",
    "from sklearn.metrics import accuracy_score"
   ],
   "metadata": {
    "collapsed": false
   }
  },
  {
   "cell_type": "code",
   "execution_count": 160,
   "outputs": [
    {
     "data": {
      "text/plain": "   PassengerId  Survived  Pclass  \\\n0            1         0       3   \n1            2         1       1   \n2            3         1       3   \n3            4         1       1   \n4            5         0       3   \n\n                                                Name     Sex   Age  SibSp  \\\n0                            Braund, Mr. Owen Harris    male  22.0      1   \n1  Cumings, Mrs. John Bradley (Florence Briggs Th...  female  38.0      1   \n2                             Heikkinen, Miss. Laina  female  26.0      0   \n3       Futrelle, Mrs. Jacques Heath (Lily May Peel)  female  35.0      1   \n4                           Allen, Mr. William Henry    male  35.0      0   \n\n   Parch            Ticket     Fare Cabin Embarked  \n0      0         A/5 21171   7.2500   NaN        S  \n1      0          PC 17599  71.2833   C85        C  \n2      0  STON/O2. 3101282   7.9250   NaN        S  \n3      0            113803  53.1000  C123        S  \n4      0            373450   8.0500   NaN        S  ",
      "text/html": "<div>\n<style scoped>\n    .dataframe tbody tr th:only-of-type {\n        vertical-align: middle;\n    }\n\n    .dataframe tbody tr th {\n        vertical-align: top;\n    }\n\n    .dataframe thead th {\n        text-align: right;\n    }\n</style>\n<table border=\"1\" class=\"dataframe\">\n  <thead>\n    <tr style=\"text-align: right;\">\n      <th></th>\n      <th>PassengerId</th>\n      <th>Survived</th>\n      <th>Pclass</th>\n      <th>Name</th>\n      <th>Sex</th>\n      <th>Age</th>\n      <th>SibSp</th>\n      <th>Parch</th>\n      <th>Ticket</th>\n      <th>Fare</th>\n      <th>Cabin</th>\n      <th>Embarked</th>\n    </tr>\n  </thead>\n  <tbody>\n    <tr>\n      <th>0</th>\n      <td>1</td>\n      <td>0</td>\n      <td>3</td>\n      <td>Braund, Mr. Owen Harris</td>\n      <td>male</td>\n      <td>22.0</td>\n      <td>1</td>\n      <td>0</td>\n      <td>A/5 21171</td>\n      <td>7.2500</td>\n      <td>NaN</td>\n      <td>S</td>\n    </tr>\n    <tr>\n      <th>1</th>\n      <td>2</td>\n      <td>1</td>\n      <td>1</td>\n      <td>Cumings, Mrs. John Bradley (Florence Briggs Th...</td>\n      <td>female</td>\n      <td>38.0</td>\n      <td>1</td>\n      <td>0</td>\n      <td>PC 17599</td>\n      <td>71.2833</td>\n      <td>C85</td>\n      <td>C</td>\n    </tr>\n    <tr>\n      <th>2</th>\n      <td>3</td>\n      <td>1</td>\n      <td>3</td>\n      <td>Heikkinen, Miss. Laina</td>\n      <td>female</td>\n      <td>26.0</td>\n      <td>0</td>\n      <td>0</td>\n      <td>STON/O2. 3101282</td>\n      <td>7.9250</td>\n      <td>NaN</td>\n      <td>S</td>\n    </tr>\n    <tr>\n      <th>3</th>\n      <td>4</td>\n      <td>1</td>\n      <td>1</td>\n      <td>Futrelle, Mrs. Jacques Heath (Lily May Peel)</td>\n      <td>female</td>\n      <td>35.0</td>\n      <td>1</td>\n      <td>0</td>\n      <td>113803</td>\n      <td>53.1000</td>\n      <td>C123</td>\n      <td>S</td>\n    </tr>\n    <tr>\n      <th>4</th>\n      <td>5</td>\n      <td>0</td>\n      <td>3</td>\n      <td>Allen, Mr. William Henry</td>\n      <td>male</td>\n      <td>35.0</td>\n      <td>0</td>\n      <td>0</td>\n      <td>373450</td>\n      <td>8.0500</td>\n      <td>NaN</td>\n      <td>S</td>\n    </tr>\n  </tbody>\n</table>\n</div>"
     },
     "execution_count": 160,
     "metadata": {},
     "output_type": "execute_result"
    }
   ],
   "source": [
    "df_main = pd.read_csv('data/titanic/train.csv')\n",
    "df_main.head()"
   ],
   "metadata": {
    "collapsed": false
   }
  },
  {
   "cell_type": "code",
   "execution_count": 161,
   "outputs": [],
   "source": [
    "def prepare_num(df):\n",
    "    df_num = df.drop(['Sex', 'Embarked', 'Pclass'], axis=1)\n",
    "    df_sex = pd.get_dummies(df['Sex'])\n",
    "    df_emb = pd.get_dummies(df['Embarked'], prefix='Emb')\n",
    "    df_pcl = pd.get_dummies(df['Pclass'], prefix='Pclass')\n",
    "\n",
    "    df_num = pd.concat((df_num, df_sex, df_emb, df_pcl), axis=1)\n",
    "    return df_num"
   ],
   "metadata": {
    "collapsed": false
   }
  },
  {
   "cell_type": "code",
   "execution_count": 162,
   "outputs": [],
   "source": [
    "def split_data(X_scaled, y):\n",
    "    X_train, X_test, y_train, y_test = train_test_split(X_scaled, y, test_size=0.2, random_state=1)\n",
    "    X_train, X_val, y_train, y_val = train_test_split(X_train, y_train, test_size=0.2, random_state=1)\n",
    "    return X_train, X_val, X_test, y_train, y_val, y_test\n",
    "\n",
    "\n",
    "def scale_data(X):\n",
    "    scaler = MinMaxScaler()\n",
    "    return scaler.fit_transform(X)"
   ],
   "metadata": {
    "collapsed": false
   }
  },
  {
   "cell_type": "code",
   "execution_count": 163,
   "outputs": [
    {
     "data": {
      "text/plain": "      Age  SibSp  Parch     Fare  female  male  Emb_C  Emb_Q  Emb_S  Pclass_1  \\\n0    22.0      1      0   7.2500       0     1      0      0      1         0   \n1    38.0      1      0  71.2833       1     0      1      0      0         1   \n2    26.0      0      0   7.9250       1     0      0      0      1         0   \n3    35.0      1      0  53.1000       1     0      0      0      1         1   \n4    35.0      0      0   8.0500       0     1      0      0      1         0   \n..    ...    ...    ...      ...     ...   ...    ...    ...    ...       ...   \n886  27.0      0      0  13.0000       0     1      0      0      1         0   \n887  19.0      0      0  30.0000       1     0      0      0      1         1   \n888  28.0      1      2  23.4500       1     0      0      0      1         0   \n889  26.0      0      0  30.0000       0     1      1      0      0         1   \n890  32.0      0      0   7.7500       0     1      0      1      0         0   \n\n     Pclass_2  Pclass_3  \n0           0         1  \n1           0         0  \n2           0         1  \n3           0         0  \n4           0         1  \n..        ...       ...  \n886         1         0  \n887         0         0  \n888         0         1  \n889         0         0  \n890         0         1  \n\n[891 rows x 12 columns]",
      "text/html": "<div>\n<style scoped>\n    .dataframe tbody tr th:only-of-type {\n        vertical-align: middle;\n    }\n\n    .dataframe tbody tr th {\n        vertical-align: top;\n    }\n\n    .dataframe thead th {\n        text-align: right;\n    }\n</style>\n<table border=\"1\" class=\"dataframe\">\n  <thead>\n    <tr style=\"text-align: right;\">\n      <th></th>\n      <th>Age</th>\n      <th>SibSp</th>\n      <th>Parch</th>\n      <th>Fare</th>\n      <th>female</th>\n      <th>male</th>\n      <th>Emb_C</th>\n      <th>Emb_Q</th>\n      <th>Emb_S</th>\n      <th>Pclass_1</th>\n      <th>Pclass_2</th>\n      <th>Pclass_3</th>\n    </tr>\n  </thead>\n  <tbody>\n    <tr>\n      <th>0</th>\n      <td>22.0</td>\n      <td>1</td>\n      <td>0</td>\n      <td>7.2500</td>\n      <td>0</td>\n      <td>1</td>\n      <td>0</td>\n      <td>0</td>\n      <td>1</td>\n      <td>0</td>\n      <td>0</td>\n      <td>1</td>\n    </tr>\n    <tr>\n      <th>1</th>\n      <td>38.0</td>\n      <td>1</td>\n      <td>0</td>\n      <td>71.2833</td>\n      <td>1</td>\n      <td>0</td>\n      <td>1</td>\n      <td>0</td>\n      <td>0</td>\n      <td>1</td>\n      <td>0</td>\n      <td>0</td>\n    </tr>\n    <tr>\n      <th>2</th>\n      <td>26.0</td>\n      <td>0</td>\n      <td>0</td>\n      <td>7.9250</td>\n      <td>1</td>\n      <td>0</td>\n      <td>0</td>\n      <td>0</td>\n      <td>1</td>\n      <td>0</td>\n      <td>0</td>\n      <td>1</td>\n    </tr>\n    <tr>\n      <th>3</th>\n      <td>35.0</td>\n      <td>1</td>\n      <td>0</td>\n      <td>53.1000</td>\n      <td>1</td>\n      <td>0</td>\n      <td>0</td>\n      <td>0</td>\n      <td>1</td>\n      <td>1</td>\n      <td>0</td>\n      <td>0</td>\n    </tr>\n    <tr>\n      <th>4</th>\n      <td>35.0</td>\n      <td>0</td>\n      <td>0</td>\n      <td>8.0500</td>\n      <td>0</td>\n      <td>1</td>\n      <td>0</td>\n      <td>0</td>\n      <td>1</td>\n      <td>0</td>\n      <td>0</td>\n      <td>1</td>\n    </tr>\n    <tr>\n      <th>...</th>\n      <td>...</td>\n      <td>...</td>\n      <td>...</td>\n      <td>...</td>\n      <td>...</td>\n      <td>...</td>\n      <td>...</td>\n      <td>...</td>\n      <td>...</td>\n      <td>...</td>\n      <td>...</td>\n      <td>...</td>\n    </tr>\n    <tr>\n      <th>886</th>\n      <td>27.0</td>\n      <td>0</td>\n      <td>0</td>\n      <td>13.0000</td>\n      <td>0</td>\n      <td>1</td>\n      <td>0</td>\n      <td>0</td>\n      <td>1</td>\n      <td>0</td>\n      <td>1</td>\n      <td>0</td>\n    </tr>\n    <tr>\n      <th>887</th>\n      <td>19.0</td>\n      <td>0</td>\n      <td>0</td>\n      <td>30.0000</td>\n      <td>1</td>\n      <td>0</td>\n      <td>0</td>\n      <td>0</td>\n      <td>1</td>\n      <td>1</td>\n      <td>0</td>\n      <td>0</td>\n    </tr>\n    <tr>\n      <th>888</th>\n      <td>28.0</td>\n      <td>1</td>\n      <td>2</td>\n      <td>23.4500</td>\n      <td>1</td>\n      <td>0</td>\n      <td>0</td>\n      <td>0</td>\n      <td>1</td>\n      <td>0</td>\n      <td>0</td>\n      <td>1</td>\n    </tr>\n    <tr>\n      <th>889</th>\n      <td>26.0</td>\n      <td>0</td>\n      <td>0</td>\n      <td>30.0000</td>\n      <td>0</td>\n      <td>1</td>\n      <td>1</td>\n      <td>0</td>\n      <td>0</td>\n      <td>1</td>\n      <td>0</td>\n      <td>0</td>\n    </tr>\n    <tr>\n      <th>890</th>\n      <td>32.0</td>\n      <td>0</td>\n      <td>0</td>\n      <td>7.7500</td>\n      <td>0</td>\n      <td>1</td>\n      <td>0</td>\n      <td>1</td>\n      <td>0</td>\n      <td>0</td>\n      <td>0</td>\n      <td>1</td>\n    </tr>\n  </tbody>\n</table>\n<p>891 rows × 12 columns</p>\n</div>"
     },
     "execution_count": 163,
     "metadata": {},
     "output_type": "execute_result"
    }
   ],
   "source": [
    "y = df_main['Survived']\n",
    "X = df_main.drop(['PassengerId', 'Survived', 'Name', 'Ticket', 'Cabin'], axis=1)\n",
    "X_prepared = prepare_num(X)\n",
    "X_prepared = X_prepared.fillna(X_prepared.median())\n",
    "X_scaled = scale_data(X_prepared)\n",
    "X_train, X_val, X_test, y_train, y_val, y_test = split_data(X_scaled, y)\n",
    "X_prepared"
   ],
   "metadata": {
    "collapsed": false
   }
  },
  {
   "cell_type": "code",
   "execution_count": 164,
   "outputs": [],
   "source": [
    "from sklearn.model_selection import GridSearchCV"
   ],
   "metadata": {
    "collapsed": false
   }
  },
  {
   "cell_type": "code",
   "execution_count": 165,
   "outputs": [],
   "source": [
    "def get_accuracy(model, X_test, y_test):\n",
    "    predict = model.predict(X_test)\n",
    "    return accuracy_score(y_test, predict)"
   ],
   "metadata": {
    "collapsed": false
   }
  },
  {
   "cell_type": "markdown",
   "source": [
    "XGBoost"
   ],
   "metadata": {
    "collapsed": false
   }
  },
  {
   "cell_type": "code",
   "execution_count": 182,
   "outputs": [],
   "source": [
    "from xgboost import XGBClassifier"
   ],
   "metadata": {
    "collapsed": false
   }
  },
  {
   "cell_type": "code",
   "execution_count": 183,
   "outputs": [],
   "source": [
    "def xgb(X_train, X_val, y_train, y_val):\n",
    "    clf = XGBClassifier()\n",
    "    parameters = {\n",
    "        'max_depth': range(2, 10, 1),\n",
    "        'n_estimators': range(60, 220, 40),\n",
    "        'learning_rate': [0.1, 0.01, 0.05]\n",
    "    }\n",
    "    grid = GridSearchCV(clf, parameters, cv=5)\n",
    "    grid.fit(X_train, y_train)\n",
    "    max_depth = grid.best_params_.get('max_depth')\n",
    "    n_estimators = grid.best_params_.get('n_estimators')\n",
    "    learning_rate = grid.best_params_.get('learning_rate')\n",
    "    model = XGBClassifier(n_estimators=n_estimators, max_depth=max_depth,\n",
    "                          learning_rate=learning_rate)\n",
    "    model.fit(X_train, y_train)\n",
    "    predict = model.predict(X_val)\n",
    "    acc = accuracy_score(y_val, predict)\n",
    "    print(f'Лучшие параметры:\\n{grid.best_params_}')\n",
    "    print('Лучшая accuracy на валидации: {:.2%}'.format(acc))\n",
    "    return model"
   ],
   "metadata": {
    "collapsed": false
   }
  },
  {
   "cell_type": "code",
   "execution_count": 184,
   "outputs": [
    {
     "name": "stdout",
     "output_type": "stream",
     "text": [
      "Лучшие параметры:\n",
      "{'learning_rate': 0.01, 'max_depth': 5, 'n_estimators': 180}\n",
      "Лучшая accuracy на валидации: 79.72%\n",
      "Accuracy на тесте: 79.89%\n"
     ]
    }
   ],
   "source": [
    "model = xgb(X_train, X_val, y_train, y_val)\n",
    "acc = get_accuracy(model, X_test, y_test)\n",
    "print('Accuracy на тесте: {:.2%}'.format(acc))"
   ],
   "metadata": {
    "collapsed": false
   }
  },
  {
   "cell_type": "markdown",
   "source": [
    "Logistic Regression"
   ],
   "metadata": {
    "collapsed": false
   }
  },
  {
   "cell_type": "code",
   "execution_count": 179,
   "outputs": [],
   "source": [
    "from sklearn.linear_model import LogisticRegression"
   ],
   "metadata": {
    "collapsed": false
   }
  },
  {
   "cell_type": "code",
   "execution_count": 180,
   "outputs": [],
   "source": [
    "def logistic_regression(X_train, X_val, y_train, y_val):\n",
    "    clf = LogisticRegression()\n",
    "    parameters = {\n",
    "        'C': np.arange(0.01, 1, 0.01),\n",
    "        'solver': ['lbfgs', 'liblinear', 'newton-cg', 'newton-cholesky', 'sag', 'saga']\n",
    "    }\n",
    "    grid = GridSearchCV(clf, parameters, cv=5)\n",
    "    grid.fit(X_train, y_train)\n",
    "    C = grid.best_params_.get('C')\n",
    "    solver = grid.best_params_.get('solver')\n",
    "    model = LogisticRegression(C=C, solver=solver)\n",
    "    model.fit(X_train, y_train)\n",
    "    predict = model.predict(X_val)\n",
    "    acc = accuracy_score(y_val, predict)\n",
    "    print(f'Лучшие параметры:\\n{grid.best_params_}')\n",
    "    print('Лучшая accuracy на валидации: {:.2%}'.format(acc))\n",
    "    return model"
   ],
   "metadata": {
    "collapsed": false
   }
  },
  {
   "cell_type": "code",
   "execution_count": 181,
   "outputs": [
    {
     "name": "stdout",
     "output_type": "stream",
     "text": [
      "Лучшие параметры:\n",
      "{'C': 0.02, 'solver': 'lbfgs'}\n",
      "Лучшая accuracy на валидации: 80.42%\n",
      "Accuracy на тесте: 77.09%\n"
     ]
    }
   ],
   "source": [
    "model = logistic_regression(X_train, X_val, y_train, y_val)\n",
    "acc = get_accuracy(model, X_test, y_test)\n",
    "print('Accuracy на тесте: {:.2%}'.format(acc))"
   ],
   "metadata": {
    "collapsed": false
   }
  },
  {
   "cell_type": "markdown",
   "source": [
    "KNN"
   ],
   "metadata": {
    "collapsed": false
   }
  },
  {
   "cell_type": "code",
   "execution_count": 176,
   "outputs": [],
   "source": [
    "from sklearn.neighbors import KNeighborsClassifier"
   ],
   "metadata": {
    "collapsed": false
   }
  },
  {
   "cell_type": "code",
   "execution_count": 177,
   "outputs": [],
   "source": [
    "def KNN(X_train, X_val, y_train, y_val):\n",
    "    clf = KNeighborsClassifier()\n",
    "    parameters = {\n",
    "        'n_neighbors': range(1, 31)\n",
    "    }\n",
    "    grid = GridSearchCV(clf, parameters, cv=5)\n",
    "    grid.fit(X_train, y_train)\n",
    "    n_neighbors = grid.best_params_.get('n_neighbors')\n",
    "    model = KNeighborsClassifier(n_neighbors=n_neighbors)\n",
    "    model.fit(X_train, y_train)\n",
    "    predict = model.predict(X_val)\n",
    "    acc = accuracy_score(y_val, predict)\n",
    "    print(f'Лучшие параметры:\\n{grid.best_params_}')\n",
    "    print('Лучшая accuracy на валидации: {:.2%}'.format(acc))\n",
    "    return model"
   ],
   "metadata": {
    "collapsed": false
   }
  },
  {
   "cell_type": "code",
   "execution_count": 178,
   "outputs": [
    {
     "name": "stdout",
     "output_type": "stream",
     "text": [
      "Лучшие параметры:\n",
      "{'n_neighbors': 4}\n",
      "Лучшая accuracy на валидации: 80.42%\n",
      "Accuracy на тесте: 78.21%\n"
     ]
    }
   ],
   "source": [
    "model = KNN(X_train, X_val, y_train, y_val)\n",
    "acc = get_accuracy(model, X_test, y_test)\n",
    "print('Accuracy на тесте: {:.2%}'.format(acc))"
   ],
   "metadata": {
    "collapsed": false
   }
  },
  {
   "cell_type": "markdown",
   "source": [
    "RandomForest"
   ],
   "metadata": {
    "collapsed": false
   }
  },
  {
   "cell_type": "code",
   "execution_count": 166,
   "outputs": [],
   "source": [
    "from sklearn.ensemble import RandomForestClassifier"
   ],
   "metadata": {
    "collapsed": false
   }
  },
  {
   "cell_type": "code",
   "execution_count": 167,
   "outputs": [],
   "source": [
    "def random_forest(X_train, X_val, y_train, y_val):\n",
    "    clf = RandomForestClassifier()\n",
    "    parameters = {\n",
    "        'n_estimators': range(10, 30, 10),\n",
    "        'max_depth': range(1, 13, 2),\n",
    "        'min_samples_leaf': range(1, 8),\n",
    "        'min_samples_split': range(2, 10, 2),\n",
    "        'criterion': ['gini', 'entropy', 'log_loss']\n",
    "    }\n",
    "    grid = GridSearchCV(clf, parameters, cv=5)\n",
    "    grid.fit(X_train, y_train)\n",
    "    max_depth = grid.best_params_.get('max_depth')\n",
    "    min_samples_leaf = grid.best_params_.get('min_samples_leaf')\n",
    "    min_samples_split = grid.best_params_.get('min_samples_split')\n",
    "    n_estimators = grid.best_params_.get('n_estimators')\n",
    "    criterion = grid.best_params_.get('criterion')\n",
    "    model = RandomForestClassifier(n_estimators=n_estimators, criterion=criterion, max_depth=max_depth,\n",
    "                                   min_samples_leaf=min_samples_leaf, min_samples_split=min_samples_split)\n",
    "    model.fit(X_train, y_train)\n",
    "    predict = model.predict(X_val)\n",
    "    acc = accuracy_score(y_val, predict)\n",
    "    print(f'Лучшие параметры:\\n{grid.best_params_}')\n",
    "    print('Лучшая accuracy: {:.2%}'.format(acc))\n",
    "    return model"
   ],
   "metadata": {
    "collapsed": false
   }
  },
  {
   "cell_type": "code",
   "execution_count": 169,
   "outputs": [
    {
     "name": "stdout",
     "output_type": "stream",
     "text": [
      "Лучшие параметры:\n",
      "{'criterion': 'entropy', 'max_depth': 9, 'min_samples_leaf': 5, 'min_samples_split': 8, 'n_estimators': 20}\n",
      "Лучшая accuracy: 80.42%\n",
      "Accuracy: 78.77%\n"
     ]
    }
   ],
   "source": [
    "model = random_forest(X_train, X_val, y_train, y_val)\n",
    "acc = get_accuracy(model, X_test, y_test)\n",
    "print('Accuracy: {:.2%}'.format(acc))"
   ],
   "metadata": {
    "collapsed": false
   }
  },
  {
   "cell_type": "markdown",
   "source": [
    "2. С помощью RandomForest выберите 2, 4, 8 самых важных признаков и проверьте точность моделей только на этих признаках."
   ],
   "metadata": {
    "collapsed": false
   }
  },
  {
   "cell_type": "code",
   "execution_count": 170,
   "outputs": [
    {
     "data": {
      "text/plain": "<Figure size 640x480 with 1 Axes>",
      "image/png": "[encoded data removed]"
     },
     "metadata": {},
     "output_type": "display_data"
    }
   ],
   "source": [
    "importances = model.feature_importances_\n",
    "features = X_prepared.columns\n",
    "\n",
    "# Добавление сортировки по важности\n",
    "indices = np.argsort(importances)\n",
    "\n",
    "plt.title('Важность признаков')\n",
    "plt.barh(range(len(indices)), importances[indices], color='b', align='center')\n",
    "plt.yticks(range(len(indices)), features[indices])\n",
    "plt.xlabel('Относительная важность')\n",
    "plt.show()"
   ],
   "metadata": {
    "collapsed": false
   }
  },
  {
   "cell_type": "code",
   "execution_count": 175,
   "outputs": [],
   "source": [
    "def test_n_features(model, X_prepared, y, n):\n",
    "    X = X_prepared[features[indices][-n:]]\n",
    "    X = scale_data(X)\n",
    "    X_train, X_val, X_test, y_train, y_val, y_test = split_data(X, y)\n",
    "    model.fit(X_train, y_train)\n",
    "    return get_accuracy(model, X_test, y_test)"
   ],
   "metadata": {
    "collapsed": false
   }
  },
  {
   "cell_type": "code",
   "execution_count": 172,
   "outputs": [
    {
     "name": "stdout",
     "output_type": "stream",
     "text": [
      "Accuracy: 77.65%\n"
     ]
    }
   ],
   "source": [
    "acc = test_n_features(model, X_prepared, y, 2)\n",
    "print('Accuracy: {:.2%}'.format(acc))"
   ],
   "metadata": {
    "collapsed": false
   }
  },
  {
   "cell_type": "code",
   "execution_count": 173,
   "outputs": [
    {
     "name": "stdout",
     "output_type": "stream",
     "text": [
      "Accuracy: 79.89%\n"
     ]
    }
   ],
   "source": [
    "acc = test_n_features(model, X_prepared, y, 4)\n",
    "print('Accuracy: {:.2%}'.format(acc))"
   ],
   "metadata": {
    "collapsed": false
   }
  },
  {
   "cell_type": "code",
   "execution_count": 174,
   "outputs": [
    {
     "name": "stdout",
     "output_type": "stream",
     "text": [
      "Accuracy: 81.01%\n"
     ]
    }
   ],
   "source": [
    "acc = test_n_features(model, X_prepared, y, 8)\n",
    "print('Accuracy: {:.2%}'.format(acc))"
   ],
   "metadata": {
    "collapsed": false
   }
  },
  {
   "cell_type": "markdown",
   "source": [
    "3. Используя координаты скважин из файла wells_info.csv разделите их на кластера с помощью любых 4 методов и отобразите разделение. Параметры подбираются самостоятельно."
   ],
   "metadata": {
    "collapsed": false
   }
  },
  {
   "cell_type": "code",
   "execution_count": 205,
   "outputs": [
    {
     "data": {
      "text/plain": "   BottomHoleLatitude  BottomHoleLongitude\n0            39.68445           -104.60557\n1            40.49692           -104.77859\n2            40.34780           -104.36863\n3            40.17445           -104.52932\n4            40.49558           -104.86757",
      "text/html": "<div>\n<style scoped>\n    .dataframe tbody tr th:only-of-type {\n        vertical-align: middle;\n    }\n\n    .dataframe tbody tr th {\n        vertical-align: top;\n    }\n\n    .dataframe thead th {\n        text-align: right;\n    }\n</style>\n<table border=\"1\" class=\"dataframe\">\n  <thead>\n    <tr style=\"text-align: right;\">\n      <th></th>\n      <th>BottomHoleLatitude</th>\n      <th>BottomHoleLongitude</th>\n    </tr>\n  </thead>\n  <tbody>\n    <tr>\n      <th>0</th>\n      <td>39.68445</td>\n      <td>-104.60557</td>\n    </tr>\n    <tr>\n      <th>1</th>\n      <td>40.49692</td>\n      <td>-104.77859</td>\n    </tr>\n    <tr>\n      <th>2</th>\n      <td>40.34780</td>\n      <td>-104.36863</td>\n    </tr>\n    <tr>\n      <th>3</th>\n      <td>40.17445</td>\n      <td>-104.52932</td>\n    </tr>\n    <tr>\n      <th>4</th>\n      <td>40.49558</td>\n      <td>-104.86757</td>\n    </tr>\n  </tbody>\n</table>\n</div>"
     },
     "execution_count": 205,
     "metadata": {},
     "output_type": "execute_result"
    }
   ],
   "source": [
    "wells_info = pd.read_csv('data/wells_info.csv')\n",
    "wells_coords = wells_info[[\"BottomHoleLatitude\", \"BottomHoleLongitude\"]]\n",
    "data = np.array(wells_coords)\n",
    "wells_coords.head()"
   ],
   "metadata": {
    "collapsed": false
   }
  },
  {
   "cell_type": "code",
   "execution_count": 237,
   "outputs": [],
   "source": [
    "def show_clasters(model, data):\n",
    "    clusters = model.fit_predict(data)\n",
    "    for cl in np.unique(clusters):\n",
    "        data_ = data[clusters == cl]\n",
    "        plt.scatter(data_[:, 0], data_[:, 1])\n",
    "    plt.show()"
   ],
   "metadata": {
    "collapsed": false
   }
  },
  {
   "cell_type": "code",
   "execution_count": 304,
   "outputs": [],
   "source": [
    "from sklearn.cluster import MiniBatchKMeans, DBSCAN, AffinityPropagation, OPTICS, AgglomerativeClustering, SpectralClustering"
   ],
   "metadata": {
    "collapsed": false
   }
  },
  {
   "cell_type": "markdown",
   "source": [
    "MiniBatchKMeans"
   ],
   "metadata": {
    "collapsed": false
   }
  },
  {
   "cell_type": "code",
   "execution_count": 286,
   "outputs": [
    {
     "data": {
      "text/plain": "<Figure size 640x480 with 1 Axes>",
      "image/png": "[encoded data removed]"
     },
     "metadata": {},
     "output_type": "display_data"
    }
   ],
   "source": [
    "model = MiniBatchKMeans(n_clusters=5, n_init='auto')\n",
    "show_clasters(model, data)"
   ],
   "metadata": {
    "collapsed": false
   }
  },
  {
   "cell_type": "markdown",
   "source": [
    "DBSCAN"
   ],
   "metadata": {
    "collapsed": false
   }
  },
  {
   "cell_type": "code",
   "execution_count": 239,
   "outputs": [
    {
     "data": {
      "text/plain": "<Figure size 640x480 with 1 Axes>",
      "image/png": "[encoded data removed]"
     },
     "metadata": {},
     "output_type": "display_data"
    }
   ],
   "source": [
    "model = DBSCAN(eps=0.5, min_samples=2)\n",
    "show_clasters(model, data)"
   ],
   "metadata": {
    "collapsed": false
   }
  },
  {
   "cell_type": "markdown",
   "source": [
    "AffinityPropagation"
   ],
   "metadata": {
    "collapsed": false
   }
  },
  {
   "cell_type": "code",
   "execution_count": 258,
   "outputs": [
    {
     "data": {
      "text/plain": "<Figure size 640x480 with 1 Axes>",
      "image/png": "[encoded data removed]"
     },
     "metadata": {},
     "output_type": "display_data"
    }
   ],
   "source": [
    "model = AffinityPropagation(damping=0.52)\n",
    "show_clasters(model, data)"
   ],
   "metadata": {
    "collapsed": false
   }
  },
  {
   "cell_type": "markdown",
   "source": [
    "OPTICS"
   ],
   "metadata": {
    "collapsed": false
   }
  },
  {
   "cell_type": "code",
   "execution_count": 279,
   "outputs": [
    {
     "data": {
      "text/plain": "<Figure size 640x480 with 1 Axes>",
      "image/png": "[encoded data removed]"
     },
     "metadata": {},
     "output_type": "display_data"
    }
   ],
   "source": [
    "model = OPTICS(min_samples=0.1)\n",
    "show_clasters(model, data)"
   ],
   "metadata": {
    "collapsed": false
   }
  },
  {
   "cell_type": "markdown",
   "source": [
    "AgglomerativeClustering"
   ],
   "metadata": {
    "collapsed": false
   }
  },
  {
   "cell_type": "markdown",
   "source": [],
   "metadata": {
    "collapsed": false
   }
  },
  {
   "cell_type": "code",
   "execution_count": 301,
   "outputs": [
    {
     "data": {
      "text/plain": "<Figure size 640x480 with 1 Axes>",
      "image/png": "[encoded data removed]"
     },
     "metadata": {},
     "output_type": "display_data"
    }
   ],
   "source": [
    "model = AgglomerativeClustering(n_clusters=5)\n",
    "show_clasters(model, data)"
   ],
   "metadata": {
    "collapsed": false
   }
  },
  {
   "cell_type": "markdown",
   "source": [
    "SpectralClustering"
   ],
   "metadata": {
    "collapsed": false
   }
  },
  {
   "cell_type": "code",
   "execution_count": 331,
   "outputs": [
    {
     "data": {
      "text/plain": "<Figure size 640x480 with 1 Axes>",
      "image/png": "[encoded data removed]"
     },
     "metadata": {},
     "output_type": "display_data"
    }
   ],
   "source": [
    "model = SpectralClustering(n_clusters=5)\n",
    "show_clasters(model, data)"
   ],
   "metadata": {
    "collapsed": false
   }
  },
  {
   "cell_type": "markdown",
   "source": [
    "4. Приведите отобранные в 6.1 задании признаки из файла wells_info_with_prod.csv в двумерное пространство. Выделите цветом добычу с этой скважины."
   ],
   "metadata": {
    "collapsed": false
   }
  },
  {
   "cell_type": "code",
   "execution_count": null,
   "outputs": [],
   "source": [],
   "metadata": {
    "collapsed": false
   }
  },
  {
   "cell_type": "markdown",
   "source": [
    "Лабораторная работа 9.1 Титаник ML\n",
    "1. Загрузить файл, разделить его на train и test. Для test взять 10% случайно выбранных строк таблицы.\n",
    "2. Обучить модели: Decision Tree, XGBoost, Logistic Regression из библиотек sklearn и xgboost. Обучить модели предсказывать столбец label по остальным столбцам таблицы.\n",
    "3. Наладить замер Accuracy - доли верно угаданных ответов.\n",
    "4. Точности всех моделей не должны быть ниже 85%\n",
    "5. С помощью Decision Tree выбрать 2 самых важных признака и проверить точность модели, обученной только на них."
   ],
   "metadata": {
    "collapsed": false
   }
  },
  {
   "cell_type": "code",
   "execution_count": null,
   "outputs": [],
   "source": [
    "df_main = pd.read_csv('data/titanic_prepared.csv')\n",
    "df_main.head()"
   ],
   "metadata": {
    "collapsed": false
   }
  },
  {
   "cell_type": "code",
   "execution_count": null,
   "outputs": [],
   "source": [
    "X_train, X_test, y_train, y_test = train_test_split(X, y, test_size=0.2, random_state=1)"
   ],
   "metadata": {
    "collapsed": false
   }
  },
  {
   "cell_type": "code",
   "execution_count": null,
   "outputs": [],
   "source": [],
   "metadata": {
    "collapsed": false
   }
  },
  {
   "cell_type": "code",
   "execution_count": null,
   "outputs": [],
   "source": [],
   "metadata": {
    "collapsed": false
   }
  }
 ],
 "metadata": {
  "kernelspec": {
   "display_name": "Python 3",
   "language": "python",
   "name": "python3"
  },
  "language_info": {
   "codemirror_mode": {
    "name": "ipython",
    "version": 2
   },
   "file_extension": ".py",
   "mimetype": "text/x-python",
   "name": "python",
   "nbconvert_exporter": "python",
   "pygments_lexer": "ipython2",
   "version": "2.7.6"
  }
 },
 "nbformat": 4,
 "nbformat_minor": 0
}
