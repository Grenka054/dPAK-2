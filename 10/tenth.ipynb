{
 "cells": [
  {
   "cell_type": "markdown",
   "source": [
    "[Теория](https://programforyou.ru/poleznoe/convolutional-network-from-scratch-part-zero-introduction)"
   ],
   "metadata": {
    "collapsed": false
   }
  },
  {
   "cell_type": "markdown",
   "source": [
    "1. С помощью библиотеки numpy реализовать модель с прямым проходом, состоящую из 3 полносвязных слоёв с функциями потерь: ReLU, tanh, Softmax. Длины векторов на входе 256, на выходе 4, промежуточные: 64 и 16.\n",
    "\n",
    "*Веса задаются случайно в диапазне от -1 до 1, сдвиги не участвуют*"
   ],
   "metadata": {
    "collapsed": false
   }
  },
  {
   "cell_type": "code",
   "execution_count": 14,
   "outputs": [],
   "source": [
    "import numpy as np\n",
    "from abc import abstractmethod\n",
    "\n",
    "\n",
    "# activation functions:\n",
    "def softmax(X):\n",
    "    denominator_sum = np.sum(np.exp(X))\n",
    "    return np.exp(X) / denominator_sum\n",
    "\n",
    "\n",
    "def ReLU(X):\n",
    "    return np.maximum(0, X)\n",
    "\n",
    "\n",
    "def tanh(X):\n",
    "    return np.tanh(X)"
   ],
   "metadata": {
    "collapsed": false
   }
  },
  {
   "cell_type": "code",
   "execution_count": 15,
   "outputs": [],
   "source": [
    "class Layer:\n",
    "    @abstractmethod\n",
    "    def forward(self, X):\n",
    "        pass"
   ],
   "metadata": {
    "collapsed": false
   }
  },
  {
   "cell_type": "code",
   "execution_count": 16,
   "outputs": [],
   "source": [
    "class FCLayer(Layer):\n",
    "    def __init__(self, size_W, activation_function):\n",
    "        self.W = np.random.uniform(-1, 1, size_W)\n",
    "        self.activation_function = activation_function\n",
    "\n",
    "    def forward(self, X):\n",
    "        # Y = f(XW)\n",
    "        Y = X.dot(self.W)\n",
    "        return self.activation_function(Y)"
   ],
   "metadata": {
    "collapsed": false
   }
  },
  {
   "cell_type": "code",
   "execution_count": 17,
   "outputs": [],
   "source": [
    "class Model:\n",
    "    @abstractmethod\n",
    "    def __init__(self):\n",
    "        self.layers = []\n",
    "\n",
    "    def __call__(self, data):\n",
    "        res = data\n",
    "        for layer in self.layers:\n",
    "            res = layer.forward(res)\n",
    "        return res"
   ],
   "metadata": {
    "collapsed": false
   }
  },
  {
   "cell_type": "code",
   "execution_count": 18,
   "outputs": [],
   "source": [
    "class Model_1(Model):\n",
    "    def __init__(self):\n",
    "        layer_1 = FCLayer((256, 64), ReLU)\n",
    "        layer_2 = FCLayer((64, 16), tanh)\n",
    "        layer_3 = FCLayer((16, 4), softmax)\n",
    "        self.layers = [layer_1, layer_2, layer_3]"
   ],
   "metadata": {
    "collapsed": false
   }
  },
  {
   "cell_type": "code",
   "execution_count": 19,
   "outputs": [
    {
     "data": {
      "text/plain": "array([0.04262191, 0.76603391, 0.00249729, 0.18884689])"
     },
     "execution_count": 19,
     "metadata": {},
     "output_type": "execute_result"
    }
   ],
   "source": [
    "np.random.seed(19193)\n",
    "X = np.random.randint(0, 255, size=256)\n",
    "model_1 = Model_1()\n",
    "model_1(X)"
   ],
   "metadata": {
    "collapsed": false
   }
  },
  {
   "cell_type": "markdown",
   "source": [
    "2. Реализовать модель с прямым проходом, состоящую из 2 свёрток с функциями активации ReLU и 2 функций MaxPool. Первый слой переводит из 3 каналов в 8, второй из 8 слоёв в 16. На вход подаётся изображение размера 19х19. (19х19x3 -> 18x18x8 -> 9x9x8 -> 8x8x16 -> 4x4x16)"
   ],
   "metadata": {
    "collapsed": false
   }
  },
  {
   "cell_type": "code",
   "execution_count": 20,
   "outputs": [],
   "source": [
    "np.random.seed(19193)"
   ],
   "metadata": {
    "collapsed": false
   }
  },
  {
   "cell_type": "code",
   "execution_count": 21,
   "outputs": [],
   "source": [
    "class ConvolutionLayer(Layer):\n",
    "    def __init__(self, channels_in, channels_out, kernel_size=3, step=1, activation_function=ReLU):\n",
    "        self.channels_out = channels_out\n",
    "        self.activation_function = activation_function\n",
    "        self.step = step\n",
    "\n",
    "        # набор 3D-фильтров\n",
    "        self.filters = []\n",
    "        for _ in range(channels_out):\n",
    "            self.filters.append(np.random.random((kernel_size, kernel_size, channels_in)))\n",
    "        self.filters = np.array(self.filters)\n",
    "\n",
    "    def __convolution_3d(self, matrix, filter):\n",
    "        if matrix.shape[2] != filter.shape[2]:\n",
    "            raise ValueError(\"The number of channels is not the same!\")\n",
    "\n",
    "        res = np.zeros((matrix.shape[0] - 1, matrix.shape[1] - 1, matrix.shape[2]))\n",
    "        # 2D свертка по всем каналам\n",
    "        for channel in range(matrix.shape[2]):\n",
    "            kernel = filter[:, :, channel]\n",
    "            matrix_2d = matrix[:, :, channel]\n",
    "            for y in range(0, matrix.shape[0] - kernel.shape[0] + 1, self.step):\n",
    "                for x in range(0, matrix.shape[1] - kernel.shape[1] + 1, self.step):\n",
    "                    res[y][x][channel] = np.sum(matrix_2d[ y:(y + kernel.shape[0]), x:(x + kernel.shape[1]) ] * kernel)\n",
    "        # сложение слоев\n",
    "        return np.sum(res, axis=2)\n",
    "\n",
    "    def forward(self, X):\n",
    "        res = []\n",
    "        for filter in self.filters:\n",
    "            res.append(self.__convolution_3d(X, filter))\n",
    "        res = np.transpose(res, axes=[1, 2, 0])\n",
    "        return self.activation_function(res)"
   ],
   "metadata": {
    "collapsed": false
   }
  },
  {
   "cell_type": "code",
   "execution_count": 22,
   "outputs": [],
   "source": [
    "class MaxPoolLayer(Layer):\n",
    "    def __init__(self, kernel_size=2):\n",
    "        self.kernel_size = kernel_size\n",
    "\n",
    "    def forward(self, X):\n",
    "        res = np.zeros((X.shape[0] // self.kernel_size,\n",
    "                        X.shape[1] // self.kernel_size,\n",
    "                        X.shape[2]))\n",
    "\n",
    "        for channel in range(X.shape[2]):\n",
    "            for y in range(0, X.shape[0] - self.kernel_size + 1, self.kernel_size):\n",
    "                for x in range(0, X.shape[1] - self.kernel_size + 1, self.kernel_size):\n",
    "                    res [x // self.kernel_size] [y // self.kernel_size] [channel] = \\\n",
    "                        np.max( X[y:(y + self.kernel_size), x:(x + self.kernel_size), channel] )\n",
    "        return res"
   ],
   "metadata": {
    "collapsed": false
   }
  },
  {
   "cell_type": "code",
   "execution_count": 23,
   "outputs": [],
   "source": [
    "class Model_2(Model):\n",
    "    def __init__(self):\n",
    "        layer_1 = ConvolutionLayer(3, 8)\n",
    "        layer_2 = MaxPoolLayer()\n",
    "        layer_3 = ConvolutionLayer(8, 16)\n",
    "        layer_4 = MaxPoolLayer()\n",
    "        self.layers = [layer_1, layer_2, layer_3, layer_4]"
   ],
   "metadata": {
    "collapsed": false
   }
  },
  {
   "cell_type": "code",
   "execution_count": 24,
   "outputs": [
    {
     "data": {
      "text/plain": "(4, 4, 16)"
     },
     "execution_count": 24,
     "metadata": {},
     "output_type": "execute_result"
    }
   ],
   "source": [
    "np.random.seed(19193)\n",
    "X = np.random.randint(0, 255, size=(19, 19, 3))\n",
    "model_2 = Model_2()\n",
    "model_2(X).shape"
   ],
   "metadata": {
    "collapsed": false
   }
  },
  {
   "cell_type": "markdown",
   "source": [
    "3. Объединить сети из п.2 и п.1. На вход изображение размера 19х19, на выходе вектор из 4 элементов"
   ],
   "metadata": {
    "collapsed": false
   }
  },
  {
   "cell_type": "code",
   "execution_count": 25,
   "metadata": {
    "collapsed": true
   },
   "outputs": [],
   "source": [
    "class Model_3(Model):\n",
    "    def __call__(self, data):\n",
    "        model_1 = Model_1()\n",
    "        model_2 = Model_2()\n",
    "        return model_1(np.ravel(model_2(data)))"
   ]
  },
  {
   "cell_type": "code",
   "execution_count": 26,
   "outputs": [
    {
     "data": {
      "text/plain": "array([0.4071057 , 0.02058366, 0.04061634, 0.5316943 ])"
     },
     "execution_count": 26,
     "metadata": {},
     "output_type": "execute_result"
    }
   ],
   "source": [
    "np.random.seed(19193)\n",
    "X = np.random.randint(0, 255, size=(19, 19, 3))\n",
    "model_3 = Model_3()\n",
    "model_3(X)"
   ],
   "metadata": {
    "collapsed": false
   }
  }
 ],
 "metadata": {
  "kernelspec": {
   "display_name": "Python 3",
   "language": "python",
   "name": "python3"
  },
  "language_info": {
   "codemirror_mode": {
    "name": "ipython",
    "version": 2
   },
   "file_extension": ".py",
   "mimetype": "text/x-python",
   "name": "python",
   "nbconvert_exporter": "python",
   "pygments_lexer": "ipython2",
   "version": "2.7.6"
  }
 },
 "nbformat": 4,
 "nbformat_minor": 0
}
